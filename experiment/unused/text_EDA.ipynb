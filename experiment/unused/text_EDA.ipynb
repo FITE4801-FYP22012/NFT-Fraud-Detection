{
 "cells": [
  {
   "cell_type": "code",
   "execution_count": 1,
   "metadata": {},
   "outputs": [],
   "source": [
    "import pandas as pd\n",
    "import numpy as np\n",
    "from pycaret.classification import *\n",
    "from pycaret.nlp import *"
   ]
  },
  {
   "cell_type": "code",
   "execution_count": 2,
   "metadata": {},
   "outputs": [
    {
     "data": {
      "text/html": [
       "<div>\n",
       "<style scoped>\n",
       "    .dataframe tbody tr th:only-of-type {\n",
       "        vertical-align: middle;\n",
       "    }\n",
       "\n",
       "    .dataframe tbody tr th {\n",
       "        vertical-align: top;\n",
       "    }\n",
       "\n",
       "    .dataframe thead th {\n",
       "        text-align: right;\n",
       "    }\n",
       "</style>\n",
       "<table border=\"1\" class=\"dataframe\">\n",
       "  <thead>\n",
       "    <tr style=\"text-align: right;\">\n",
       "      <th></th>\n",
       "      <th>pk</th>\n",
       "      <th>contract_address</th>\n",
       "      <th>contract_schema</th>\n",
       "      <th>contract_ticker_symbol</th>\n",
       "      <th>display_name</th>\n",
       "      <th>description</th>\n",
       "      <th>banner_image_url</th>\n",
       "      <th>collection_image_url</th>\n",
       "      <th>is_nsfw</th>\n",
       "      <th>display_state</th>\n",
       "      <th>display_state_reason</th>\n",
       "      <th>external.discord</th>\n",
       "      <th>external.instagram</th>\n",
       "      <th>external.telegram</th>\n",
       "      <th>external.twitter</th>\n",
       "      <th>external.os_slug</th>\n",
       "      <th>external.urls</th>\n",
       "      <th>flags.os_hidden</th>\n",
       "      <th>flags.os_is_nsfw</th>\n",
       "      <th>flags.os_safelist_state</th>\n",
       "      <th>flags.code_verified</th>\n",
       "      <th>flags.functions_threshold</th>\n",
       "      <th>flags.approval_threshold</th>\n",
       "      <th>flags.bytecode_threshold</th>\n",
       "      <th>flags.did_self_destruct</th>\n",
       "      <th>flags.is_whitelisted_proxy</th>\n",
       "      <th>display_stats.floor_price</th>\n",
       "      <th>display_stats.supply</th>\n",
       "      <th>display_stats.holders</th>\n",
       "      <th>display_stats.one_day_volume</th>\n",
       "      <th>display_stats.seven_day_volume</th>\n",
       "      <th>display_stats.thirty_day_volume</th>\n",
       "      <th>display_stats.total_volume</th>\n",
       "      <th>external.discord_server</th>\n",
       "      <th>external.discord_total_member</th>\n",
       "      <th>external.instagram_name</th>\n",
       "      <th>external.instagram_total_follower</th>\n",
       "      <th>external.telegram_total_member</th>\n",
       "      <th>external.has_instagram</th>\n",
       "      <th>external.has_discord</th>\n",
       "      <th>external.has_twitter</th>\n",
       "      <th>deceptive_word_count</th>\n",
       "      <th>sentiment</th>\n",
       "    </tr>\n",
       "  </thead>\n",
       "  <tbody>\n",
       "    <tr>\n",
       "      <th>0</th>\n",
       "      <td>chn#eth_main:coll#0x9e11abc2d7a073ec1f62319616...</td>\n",
       "      <td>0x9e11abc2d7a073ec1f62319616d22577b216362b</td>\n",
       "      <td>ERC721</td>\n",
       "      <td>ICU</td>\n",
       "      <td>Of Human Bondage</td>\n",
       "      <td></td>\n",
       "      <td></td>\n",
       "      <td></td>\n",
       "      <td>False</td>\n",
       "      <td>1</td>\n",
       "      <td>Known ERC1167 proxy contract: Foundation</td>\n",
       "      <td></td>\n",
       "      <td></td>\n",
       "      <td></td>\n",
       "      <td></td>\n",
       "      <td>of-human-bondage</td>\n",
       "      <td>[]</td>\n",
       "      <td>False</td>\n",
       "      <td>False</td>\n",
       "      <td>not_requested</td>\n",
       "      <td>True</td>\n",
       "      <td>True</td>\n",
       "      <td>False</td>\n",
       "      <td>False</td>\n",
       "      <td>False</td>\n",
       "      <td>True</td>\n",
       "      <td>0.000</td>\n",
       "      <td>1</td>\n",
       "      <td>1</td>\n",
       "      <td>0.0</td>\n",
       "      <td>0.000</td>\n",
       "      <td>0.00000</td>\n",
       "      <td>0.00000</td>\n",
       "      <td></td>\n",
       "      <td>0</td>\n",
       "      <td></td>\n",
       "      <td></td>\n",
       "      <td>0</td>\n",
       "      <td>False</td>\n",
       "      <td>False</td>\n",
       "      <td>False</td>\n",
       "      <td>0</td>\n",
       "      <td>4.0</td>\n",
       "    </tr>\n",
       "    <tr>\n",
       "      <th>1</th>\n",
       "      <td>chn#poly_main:coll#0x6c33f58f011b0e77b3d4841ff...</td>\n",
       "      <td>0x6c33f58f011b0e77b3d4841ff4baf8574abbdee3</td>\n",
       "      <td>ERC721</td>\n",
       "      <td>PNFT</td>\n",
       "      <td>PopItem</td>\n",
       "      <td></td>\n",
       "      <td></td>\n",
       "      <td></td>\n",
       "      <td>False</td>\n",
       "      <td>5</td>\n",
       "      <td>Verified code but low setApprovalForAll count</td>\n",
       "      <td></td>\n",
       "      <td></td>\n",
       "      <td></td>\n",
       "      <td></td>\n",
       "      <td></td>\n",
       "      <td>[]</td>\n",
       "      <td>False</td>\n",
       "      <td>False</td>\n",
       "      <td>not_requested</td>\n",
       "      <td>False</td>\n",
       "      <td>False</td>\n",
       "      <td>False</td>\n",
       "      <td>True</td>\n",
       "      <td>False</td>\n",
       "      <td>False</td>\n",
       "      <td>0.000</td>\n",
       "      <td>0</td>\n",
       "      <td>0</td>\n",
       "      <td>0.0</td>\n",
       "      <td>0.000</td>\n",
       "      <td>0.00000</td>\n",
       "      <td>0.00000</td>\n",
       "      <td></td>\n",
       "      <td>0</td>\n",
       "      <td></td>\n",
       "      <td></td>\n",
       "      <td>0</td>\n",
       "      <td>False</td>\n",
       "      <td>False</td>\n",
       "      <td>False</td>\n",
       "      <td>0</td>\n",
       "      <td>4.0</td>\n",
       "    </tr>\n",
       "    <tr>\n",
       "      <th>2</th>\n",
       "      <td>chn#eth_main:coll#0xf220db48f0d3ca8a9833e0353e...</td>\n",
       "      <td>0xf220db48f0d3ca8a9833e0353e7497dbceae7ac6</td>\n",
       "      <td>ERC721</td>\n",
       "      <td>KARA-GACHA</td>\n",
       "      <td>Karafuru Gachapon</td>\n",
       "      <td>The Karafuru Gachapon is your access ticket to...</td>\n",
       "      <td>https://lh3.googleusercontent.com/CcIzXh0j6dG5...</td>\n",
       "      <td>https://lh3.googleusercontent.com/wUqNK1rmCYtz...</td>\n",
       "      <td>False</td>\n",
       "      <td>1</td>\n",
       "      <td>Approved on opensea</td>\n",
       "      <td>https://discord.gg/karafuru</td>\n",
       "      <td>KarafuruNFT</td>\n",
       "      <td></td>\n",
       "      <td>KarafuruNFT</td>\n",
       "      <td>karafuru-gachapon</td>\n",
       "      <td>['http://3d.karafuru.io']</td>\n",
       "      <td>False</td>\n",
       "      <td>False</td>\n",
       "      <td>approved</td>\n",
       "      <td>True</td>\n",
       "      <td>True</td>\n",
       "      <td>True</td>\n",
       "      <td>True</td>\n",
       "      <td>False</td>\n",
       "      <td>False</td>\n",
       "      <td>0.035</td>\n",
       "      <td>6582</td>\n",
       "      <td>2818</td>\n",
       "      <td>0.0</td>\n",
       "      <td>0.095</td>\n",
       "      <td>1.51275</td>\n",
       "      <td>2984.53061</td>\n",
       "      <td>karafuru</td>\n",
       "      <td>129999</td>\n",
       "      <td>KarafuruNFT</td>\n",
       "      <td></td>\n",
       "      <td>0</td>\n",
       "      <td>True</td>\n",
       "      <td>True</td>\n",
       "      <td>True</td>\n",
       "      <td>0</td>\n",
       "      <td>4.0</td>\n",
       "    </tr>\n",
       "    <tr>\n",
       "      <th>3</th>\n",
       "      <td>chn#eth_main:coll#0xdc65d93d147a90994580e80da8...</td>\n",
       "      <td>0xdc65d93d147a90994580e80da819c0beaba9a8ff</td>\n",
       "      <td>ERC1155</td>\n",
       "      <td>NHA</td>\n",
       "      <td>NuestraHistoria</td>\n",
       "      <td>Nuestra Historia is a collection that will ser...</td>\n",
       "      <td>https://i.seadn.io/gcs/files/cb59f5b08d4dac531...</td>\n",
       "      <td>https://i.seadn.io/gcs/files/9ef4361d030c6c258...</td>\n",
       "      <td>False</td>\n",
       "      <td>4</td>\n",
       "      <td>Fallback state</td>\n",
       "      <td></td>\n",
       "      <td></td>\n",
       "      <td></td>\n",
       "      <td></td>\n",
       "      <td>nuestrahistoria</td>\n",
       "      <td>[]</td>\n",
       "      <td>False</td>\n",
       "      <td>False</td>\n",
       "      <td>not_requested</td>\n",
       "      <td>True</td>\n",
       "      <td>True</td>\n",
       "      <td>False</td>\n",
       "      <td>True</td>\n",
       "      <td>False</td>\n",
       "      <td>False</td>\n",
       "      <td>0.000</td>\n",
       "      <td>1</td>\n",
       "      <td>1</td>\n",
       "      <td>0.0</td>\n",
       "      <td>0.000</td>\n",
       "      <td>0.00000</td>\n",
       "      <td>0.00000</td>\n",
       "      <td></td>\n",
       "      <td>0</td>\n",
       "      <td></td>\n",
       "      <td></td>\n",
       "      <td>0</td>\n",
       "      <td>False</td>\n",
       "      <td>False</td>\n",
       "      <td>False</td>\n",
       "      <td>0</td>\n",
       "      <td>4.0</td>\n",
       "    </tr>\n",
       "    <tr>\n",
       "      <th>4</th>\n",
       "      <td>chn#poly_main:coll#0xdb241f0701965cb1f73d59690...</td>\n",
       "      <td>0xdb241f0701965cb1f73d59690375229a68d4ed5a</td>\n",
       "      <td>ERC721</td>\n",
       "      <td>S.A</td>\n",
       "      <td>SHIVA</td>\n",
       "      <td></td>\n",
       "      <td></td>\n",
       "      <td></td>\n",
       "      <td>False</td>\n",
       "      <td>2</td>\n",
       "      <td>&lt; 10 functions, unlikely a standard NFT contract</td>\n",
       "      <td></td>\n",
       "      <td></td>\n",
       "      <td></td>\n",
       "      <td></td>\n",
       "      <td>shiva-jmp9jubgbl</td>\n",
       "      <td>[]</td>\n",
       "      <td>False</td>\n",
       "      <td>False</td>\n",
       "      <td>not_requested</td>\n",
       "      <td>True</td>\n",
       "      <td>False</td>\n",
       "      <td>False</td>\n",
       "      <td>True</td>\n",
       "      <td>False</td>\n",
       "      <td>False</td>\n",
       "      <td>0.000</td>\n",
       "      <td>2</td>\n",
       "      <td>1</td>\n",
       "      <td>0.0</td>\n",
       "      <td>0.000</td>\n",
       "      <td>0.00000</td>\n",
       "      <td>0.00000</td>\n",
       "      <td></td>\n",
       "      <td>0</td>\n",
       "      <td></td>\n",
       "      <td></td>\n",
       "      <td>0</td>\n",
       "      <td>False</td>\n",
       "      <td>False</td>\n",
       "      <td>False</td>\n",
       "      <td>0</td>\n",
       "      <td>4.0</td>\n",
       "    </tr>\n",
       "  </tbody>\n",
       "</table>\n",
       "</div>"
      ],
      "text/plain": [
       "                                                  pk  \\\n",
       "0  chn#eth_main:coll#0x9e11abc2d7a073ec1f62319616...   \n",
       "1  chn#poly_main:coll#0x6c33f58f011b0e77b3d4841ff...   \n",
       "2  chn#eth_main:coll#0xf220db48f0d3ca8a9833e0353e...   \n",
       "3  chn#eth_main:coll#0xdc65d93d147a90994580e80da8...   \n",
       "4  chn#poly_main:coll#0xdb241f0701965cb1f73d59690...   \n",
       "\n",
       "                             contract_address contract_schema  \\\n",
       "0  0x9e11abc2d7a073ec1f62319616d22577b216362b          ERC721   \n",
       "1  0x6c33f58f011b0e77b3d4841ff4baf8574abbdee3          ERC721   \n",
       "2  0xf220db48f0d3ca8a9833e0353e7497dbceae7ac6          ERC721   \n",
       "3  0xdc65d93d147a90994580e80da819c0beaba9a8ff         ERC1155   \n",
       "4  0xdb241f0701965cb1f73d59690375229a68d4ed5a          ERC721   \n",
       "\n",
       "  contract_ticker_symbol       display_name  \\\n",
       "0                    ICU   Of Human Bondage   \n",
       "1                   PNFT            PopItem   \n",
       "2             KARA-GACHA  Karafuru Gachapon   \n",
       "3                    NHA    NuestraHistoria   \n",
       "4                    S.A              SHIVA   \n",
       "\n",
       "                                         description  \\\n",
       "0                                                      \n",
       "1                                                      \n",
       "2  The Karafuru Gachapon is your access ticket to...   \n",
       "3  Nuestra Historia is a collection that will ser...   \n",
       "4                                                      \n",
       "\n",
       "                                    banner_image_url  \\\n",
       "0                                                      \n",
       "1                                                      \n",
       "2  https://lh3.googleusercontent.com/CcIzXh0j6dG5...   \n",
       "3  https://i.seadn.io/gcs/files/cb59f5b08d4dac531...   \n",
       "4                                                      \n",
       "\n",
       "                                collection_image_url  is_nsfw  display_state  \\\n",
       "0                                                       False              1   \n",
       "1                                                       False              5   \n",
       "2  https://lh3.googleusercontent.com/wUqNK1rmCYtz...    False              1   \n",
       "3  https://i.seadn.io/gcs/files/9ef4361d030c6c258...    False              4   \n",
       "4                                                       False              2   \n",
       "\n",
       "                               display_state_reason  \\\n",
       "0          Known ERC1167 proxy contract: Foundation   \n",
       "1     Verified code but low setApprovalForAll count   \n",
       "2                               Approved on opensea   \n",
       "3                                    Fallback state   \n",
       "4  < 10 functions, unlikely a standard NFT contract   \n",
       "\n",
       "              external.discord external.instagram external.telegram  \\\n",
       "0                                                                     \n",
       "1                                                                     \n",
       "2  https://discord.gg/karafuru        KarafuruNFT                     \n",
       "3                                                                     \n",
       "4                                                                     \n",
       "\n",
       "  external.twitter   external.os_slug              external.urls  \\\n",
       "0                    of-human-bondage                         []   \n",
       "1                                                             []   \n",
       "2      KarafuruNFT  karafuru-gachapon  ['http://3d.karafuru.io']   \n",
       "3                     nuestrahistoria                         []   \n",
       "4                    shiva-jmp9jubgbl                         []   \n",
       "\n",
       "   flags.os_hidden  flags.os_is_nsfw flags.os_safelist_state  \\\n",
       "0            False             False           not_requested   \n",
       "1            False             False           not_requested   \n",
       "2            False             False                approved   \n",
       "3            False             False           not_requested   \n",
       "4            False             False           not_requested   \n",
       "\n",
       "   flags.code_verified  flags.functions_threshold  flags.approval_threshold  \\\n",
       "0                 True                       True                     False   \n",
       "1                False                      False                     False   \n",
       "2                 True                       True                      True   \n",
       "3                 True                       True                     False   \n",
       "4                 True                      False                     False   \n",
       "\n",
       "   flags.bytecode_threshold  flags.did_self_destruct  \\\n",
       "0                     False                    False   \n",
       "1                      True                    False   \n",
       "2                      True                    False   \n",
       "3                      True                    False   \n",
       "4                      True                    False   \n",
       "\n",
       "   flags.is_whitelisted_proxy  display_stats.floor_price  \\\n",
       "0                        True                      0.000   \n",
       "1                       False                      0.000   \n",
       "2                       False                      0.035   \n",
       "3                       False                      0.000   \n",
       "4                       False                      0.000   \n",
       "\n",
       "   display_stats.supply  display_stats.holders  display_stats.one_day_volume  \\\n",
       "0                     1                      1                           0.0   \n",
       "1                     0                      0                           0.0   \n",
       "2                  6582                   2818                           0.0   \n",
       "3                     1                      1                           0.0   \n",
       "4                     2                      1                           0.0   \n",
       "\n",
       "   display_stats.seven_day_volume  display_stats.thirty_day_volume  \\\n",
       "0                           0.000                          0.00000   \n",
       "1                           0.000                          0.00000   \n",
       "2                           0.095                          1.51275   \n",
       "3                           0.000                          0.00000   \n",
       "4                           0.000                          0.00000   \n",
       "\n",
       "   display_stats.total_volume external.discord_server  \\\n",
       "0                     0.00000                           \n",
       "1                     0.00000                           \n",
       "2                  2984.53061                karafuru   \n",
       "3                     0.00000                           \n",
       "4                     0.00000                           \n",
       "\n",
       "   external.discord_total_member external.instagram_name  \\\n",
       "0                              0                           \n",
       "1                              0                           \n",
       "2                         129999             KarafuruNFT   \n",
       "3                              0                           \n",
       "4                              0                           \n",
       "\n",
       "  external.instagram_total_follower  external.telegram_total_member  \\\n",
       "0                                                                 0   \n",
       "1                                                                 0   \n",
       "2                                                                 0   \n",
       "3                                                                 0   \n",
       "4                                                                 0   \n",
       "\n",
       "   external.has_instagram  external.has_discord  external.has_twitter  \\\n",
       "0                   False                 False                 False   \n",
       "1                   False                 False                 False   \n",
       "2                    True                  True                  True   \n",
       "3                   False                 False                 False   \n",
       "4                   False                 False                 False   \n",
       "\n",
       "   deceptive_word_count  sentiment  \n",
       "0                     0        4.0  \n",
       "1                     0        4.0  \n",
       "2                     0        4.0  \n",
       "3                     0        4.0  \n",
       "4                     0        4.0  "
      ]
     },
     "execution_count": 2,
     "metadata": {},
     "output_type": "execute_result"
    }
   ],
   "source": [
    "df = pd.read_parquet('final_df.parquet')\n",
    "df.head()"
   ]
  },
  {
   "cell_type": "code",
   "execution_count": 3,
   "metadata": {},
   "outputs": [
    {
     "data": {
      "text/plain": [
       "list"
      ]
     },
     "execution_count": 3,
     "metadata": {},
     "output_type": "execute_result"
    }
   ],
   "source": [
    "text_list = list(df['description'])\n",
    "type(text_list)"
   ]
  },
  {
   "cell_type": "code",
   "execution_count": 4,
   "metadata": {},
   "outputs": [
    {
     "data": {
      "text/html": [
       "<style  type=\"text/css\" >\n",
       "</style><table id=\"T_347fec5c_daac_11ed_8787_ab8be906ae94\" ><thead>    <tr>        <th class=\"col_heading level0 col0\" >Description</th>        <th class=\"col_heading level0 col1\" >Value</th>    </tr></thead><tbody>\n",
       "                <tr>\n",
       "                                <td id=\"T_347fec5c_daac_11ed_8787_ab8be906ae94row0_col0\" class=\"data row0 col0\" >session_id</td>\n",
       "                        <td id=\"T_347fec5c_daac_11ed_8787_ab8be906ae94row0_col1\" class=\"data row0 col1\" >123</td>\n",
       "            </tr>\n",
       "            <tr>\n",
       "                                <td id=\"T_347fec5c_daac_11ed_8787_ab8be906ae94row1_col0\" class=\"data row1 col0\" >Documents</td>\n",
       "                        <td id=\"T_347fec5c_daac_11ed_8787_ab8be906ae94row1_col1\" class=\"data row1 col1\" >44032</td>\n",
       "            </tr>\n",
       "            <tr>\n",
       "                                <td id=\"T_347fec5c_daac_11ed_8787_ab8be906ae94row2_col0\" class=\"data row2 col0\" >Vocab Size</td>\n",
       "                        <td id=\"T_347fec5c_daac_11ed_8787_ab8be906ae94row2_col1\" class=\"data row2 col1\" >18894</td>\n",
       "            </tr>\n",
       "            <tr>\n",
       "                                <td id=\"T_347fec5c_daac_11ed_8787_ab8be906ae94row3_col0\" class=\"data row3 col0\" >Custom Stopwords</td>\n",
       "                        <td id=\"T_347fec5c_daac_11ed_8787_ab8be906ae94row3_col1\" class=\"data row3 col1\" >False</td>\n",
       "            </tr>\n",
       "    </tbody></table>"
      ],
      "text/plain": [
       "<pandas.io.formats.style.Styler at 0x154e4c1f73a0>"
      ]
     },
     "metadata": {},
     "output_type": "display_data"
    }
   ],
   "source": [
    "exp_nlp101_list = setup(data = text_list, session_id = 123)"
   ]
  },
  {
   "cell_type": "code",
   "execution_count": 5,
   "metadata": {},
   "outputs": [],
   "source": [
    "lda = create_model('lda')"
   ]
  },
  {
   "cell_type": "code",
   "execution_count": 6,
   "metadata": {},
   "outputs": [
    {
     "name": "stdout",
     "output_type": "stream",
     "text": [
      "LdaModel(num_terms=18894, num_topics=4, decay=0.5, chunksize=100)\n"
     ]
    }
   ],
   "source": [
    "print(lda)"
   ]
  },
  {
   "cell_type": "code",
   "execution_count": 7,
   "metadata": {},
   "outputs": [],
   "source": [
    "lda2 = create_model('lda', num_topics = 6, multi_core = True)"
   ]
  },
  {
   "cell_type": "code",
   "execution_count": 8,
   "metadata": {},
   "outputs": [
    {
     "name": "stdout",
     "output_type": "stream",
     "text": [
      "LdaModel(num_terms=18894, num_topics=6, decay=0.5, chunksize=100)\n"
     ]
    }
   ],
   "source": [
    "print(lda2)"
   ]
  },
  {
   "cell_type": "code",
   "execution_count": 9,
   "metadata": {},
   "outputs": [
    {
     "data": {
      "text/html": [
       "<div>\n",
       "<style scoped>\n",
       "    .dataframe tbody tr th:only-of-type {\n",
       "        vertical-align: middle;\n",
       "    }\n",
       "\n",
       "    .dataframe tbody tr th {\n",
       "        vertical-align: top;\n",
       "    }\n",
       "\n",
       "    .dataframe thead th {\n",
       "        text-align: right;\n",
       "    }\n",
       "</style>\n",
       "<table border=\"1\" class=\"dataframe\">\n",
       "  <thead>\n",
       "    <tr style=\"text-align: right;\">\n",
       "      <th></th>\n",
       "      <th>en</th>\n",
       "      <th>Topic_0</th>\n",
       "      <th>Topic_1</th>\n",
       "      <th>Topic_2</th>\n",
       "      <th>Topic_3</th>\n",
       "      <th>Dominant_Topic</th>\n",
       "      <th>Perc_Dominant_Topic</th>\n",
       "    </tr>\n",
       "  </thead>\n",
       "  <tbody>\n",
       "    <tr>\n",
       "      <th>0</th>\n",
       "      <td></td>\n",
       "      <td>0.223676</td>\n",
       "      <td>0.282073</td>\n",
       "      <td>0.228630</td>\n",
       "      <td>0.265621</td>\n",
       "      <td>Topic 1</td>\n",
       "      <td>0.28</td>\n",
       "    </tr>\n",
       "    <tr>\n",
       "      <th>1</th>\n",
       "      <td></td>\n",
       "      <td>0.223676</td>\n",
       "      <td>0.282073</td>\n",
       "      <td>0.228630</td>\n",
       "      <td>0.265621</td>\n",
       "      <td>Topic 1</td>\n",
       "      <td>0.28</td>\n",
       "    </tr>\n",
       "    <tr>\n",
       "      <th>2</th>\n",
       "      <td>ticket</td>\n",
       "      <td>0.203006</td>\n",
       "      <td>0.348419</td>\n",
       "      <td>0.207501</td>\n",
       "      <td>0.241074</td>\n",
       "      <td>Topic 1</td>\n",
       "      <td>0.35</td>\n",
       "    </tr>\n",
       "    <tr>\n",
       "      <th>3</th>\n",
       "      <td>serve historical piece ethereum focus hispanic...</td>\n",
       "      <td>0.142604</td>\n",
       "      <td>0.383292</td>\n",
       "      <td>0.325228</td>\n",
       "      <td>0.148876</td>\n",
       "      <td>Topic 1</td>\n",
       "      <td>0.38</td>\n",
       "    </tr>\n",
       "    <tr>\n",
       "      <th>4</th>\n",
       "      <td></td>\n",
       "      <td>0.223676</td>\n",
       "      <td>0.282073</td>\n",
       "      <td>0.228630</td>\n",
       "      <td>0.265621</td>\n",
       "      <td>Topic 1</td>\n",
       "      <td>0.28</td>\n",
       "    </tr>\n",
       "  </tbody>\n",
       "</table>\n",
       "</div>"
      ],
      "text/plain": [
       "                                                  en   Topic_0   Topic_1  \\\n",
       "0                                                     0.223676  0.282073   \n",
       "1                                                     0.223676  0.282073   \n",
       "2                                             ticket  0.203006  0.348419   \n",
       "3  serve historical piece ethereum focus hispanic...  0.142604  0.383292   \n",
       "4                                                     0.223676  0.282073   \n",
       "\n",
       "    Topic_2   Topic_3 Dominant_Topic  Perc_Dominant_Topic  \n",
       "0  0.228630  0.265621        Topic 1                 0.28  \n",
       "1  0.228630  0.265621        Topic 1                 0.28  \n",
       "2  0.207501  0.241074        Topic 1                 0.35  \n",
       "3  0.325228  0.148876        Topic 1                 0.38  \n",
       "4  0.228630  0.265621        Topic 1                 0.28  "
      ]
     },
     "execution_count": 9,
     "metadata": {},
     "output_type": "execute_result"
    }
   ],
   "source": [
    "lda_results = assign_model(lda)\n",
    "lda_results.head()"
   ]
  },
  {
   "cell_type": "code",
   "execution_count": 11,
   "metadata": {},
   "outputs": [
    {
     "data": {
      "text/html": [
       "        <script type=\"text/javascript\">\n",
       "        window.PlotlyConfig = {MathJaxConfig: 'local'};\n",
       "        if (window.MathJax && window.MathJax.Hub && window.MathJax.Hub.Config) {window.MathJax.Hub.Config({SVG: {font: \"STIX-Web\"}});}\n",
       "        if (typeof require !== 'undefined') {\n",
       "        require.undef(\"plotly\");\n",
       "        requirejs.config({\n",
       "            paths: {\n",
       "                'plotly': ['https://cdn.plot.ly/plotly-2.14.0.min']\n",
       "            }\n",
       "        });\n",
       "        require(['plotly'], function(Plotly) {\n",
       "            window._Plotly = Plotly;\n",
       "        });\n",
       "        }\n",
       "        </script>\n",
       "        "
      ]
     },
     "metadata": {},
     "output_type": "display_data"
    },
    {
     "data": {
      "application/vnd.plotly.v1+json": {
       "config": {
        "linkText": "Export to plot.ly",
        "plotlyServerURL": "https://plot.ly",
        "showLink": true
       },
       "data": [
        {
         "marker": {
          "color": "rgba(255, 153, 51, 0.6)",
          "line": {
           "color": "rgba(255, 153, 51, 1.0)",
           "width": 1
          }
         },
         "name": "count",
         "orientation": "v",
         "text": "",
         "type": "bar",
         "x": [
          "collection",
          "https",
          "nft",
          "mint",
          "unique",
          "art",
          "create",
          "world",
          "community",
          "project",
          "free",
          "holder",
          "first",
          "make",
          "access",
          "artist",
          "use",
          "com",
          "metaverse",
          "live",
          "work",
          "game",
          "exclusive",
          "new",
          "token",
          "time",
          "get",
          "piece",
          "come",
          "also",
          "website",
          "digital",
          "future",
          "trait",
          "build",
          "web",
          "base",
          "take",
          "ape",
          "life",
          "give",
          "visit",
          "go",
          "space",
          "find",
          "join",
          "pass",
          "character",
          "utility",
          "different",
          "generate",
          "bring",
          "include",
          "feature",
          "experience",
          "inspire",
          "love",
          "benefit",
          "see",
          "member",
          "opensea",
          "official",
          "special",
          "people",
          "ethereum",
          "way",
          "collectible",
          "event",
          "year",
          "design",
          "image",
          "real",
          "original",
          "reward",
          "want",
          "part",
          "drop",
          "together",
          "become",
          "artwork",
          "know",
          "good",
          "help",
          "owner",
          "music",
          "sell",
          "many",
          "item",
          "hold",
          "start",
          "look",
          "provide",
          "story",
          "contract",
          "represent",
          "release",
          "ever",
          "club",
          "airdrop",
          "power"
         ],
         "y": [
          6440,
          2899,
          2544,
          2417,
          2316,
          2291,
          1939,
          1673,
          1670,
          1570,
          1379,
          1322,
          1315,
          1275,
          1239,
          1224,
          1216,
          1186,
          1181,
          1174,
          1071,
          1061,
          1000,
          966,
          943,
          914,
          836,
          790,
          780,
          755,
          742,
          737,
          734,
          684,
          679,
          671,
          667,
          667,
          665,
          656,
          646,
          639,
          637,
          597,
          595,
          594,
          589,
          588,
          574,
          572,
          567,
          566,
          548,
          546,
          543,
          535,
          534,
          529,
          528,
          512,
          511,
          509,
          505,
          503,
          500,
          486,
          483,
          479,
          472,
          469,
          462,
          459,
          453,
          450,
          447,
          443,
          436,
          435,
          422,
          419,
          413,
          410,
          399,
          397,
          396,
          395,
          391,
          382,
          377,
          377,
          372,
          370,
          368,
          368,
          368,
          368,
          367,
          365,
          363,
          362
         ]
        }
       ],
       "layout": {
        "legend": {
         "bgcolor": "#F5F6F9",
         "font": {
          "color": "#4D5663"
         }
        },
        "paper_bgcolor": "#F5F6F9",
        "plot_bgcolor": "#F5F6F9",
        "template": {
         "data": {
          "bar": [
           {
            "error_x": {
             "color": "#2a3f5f"
            },
            "error_y": {
             "color": "#2a3f5f"
            },
            "marker": {
             "line": {
              "color": "#E5ECF6",
              "width": 0.5
             },
             "pattern": {
              "fillmode": "overlay",
              "size": 10,
              "solidity": 0.2
             }
            },
            "type": "bar"
           }
          ],
          "barpolar": [
           {
            "marker": {
             "line": {
              "color": "#E5ECF6",
              "width": 0.5
             },
             "pattern": {
              "fillmode": "overlay",
              "size": 10,
              "solidity": 0.2
             }
            },
            "type": "barpolar"
           }
          ],
          "carpet": [
           {
            "aaxis": {
             "endlinecolor": "#2a3f5f",
             "gridcolor": "white",
             "linecolor": "white",
             "minorgridcolor": "white",
             "startlinecolor": "#2a3f5f"
            },
            "baxis": {
             "endlinecolor": "#2a3f5f",
             "gridcolor": "white",
             "linecolor": "white",
             "minorgridcolor": "white",
             "startlinecolor": "#2a3f5f"
            },
            "type": "carpet"
           }
          ],
          "choropleth": [
           {
            "colorbar": {
             "outlinewidth": 0,
             "ticks": ""
            },
            "type": "choropleth"
           }
          ],
          "contour": [
           {
            "colorbar": {
             "outlinewidth": 0,
             "ticks": ""
            },
            "colorscale": [
             [
              0,
              "#0d0887"
             ],
             [
              0.1111111111111111,
              "#46039f"
             ],
             [
              0.2222222222222222,
              "#7201a8"
             ],
             [
              0.3333333333333333,
              "#9c179e"
             ],
             [
              0.4444444444444444,
              "#bd3786"
             ],
             [
              0.5555555555555556,
              "#d8576b"
             ],
             [
              0.6666666666666666,
              "#ed7953"
             ],
             [
              0.7777777777777778,
              "#fb9f3a"
             ],
             [
              0.8888888888888888,
              "#fdca26"
             ],
             [
              1,
              "#f0f921"
             ]
            ],
            "type": "contour"
           }
          ],
          "contourcarpet": [
           {
            "colorbar": {
             "outlinewidth": 0,
             "ticks": ""
            },
            "type": "contourcarpet"
           }
          ],
          "heatmap": [
           {
            "colorbar": {
             "outlinewidth": 0,
             "ticks": ""
            },
            "colorscale": [
             [
              0,
              "#0d0887"
             ],
             [
              0.1111111111111111,
              "#46039f"
             ],
             [
              0.2222222222222222,
              "#7201a8"
             ],
             [
              0.3333333333333333,
              "#9c179e"
             ],
             [
              0.4444444444444444,
              "#bd3786"
             ],
             [
              0.5555555555555556,
              "#d8576b"
             ],
             [
              0.6666666666666666,
              "#ed7953"
             ],
             [
              0.7777777777777778,
              "#fb9f3a"
             ],
             [
              0.8888888888888888,
              "#fdca26"
             ],
             [
              1,
              "#f0f921"
             ]
            ],
            "type": "heatmap"
           }
          ],
          "heatmapgl": [
           {
            "colorbar": {
             "outlinewidth": 0,
             "ticks": ""
            },
            "colorscale": [
             [
              0,
              "#0d0887"
             ],
             [
              0.1111111111111111,
              "#46039f"
             ],
             [
              0.2222222222222222,
              "#7201a8"
             ],
             [
              0.3333333333333333,
              "#9c179e"
             ],
             [
              0.4444444444444444,
              "#bd3786"
             ],
             [
              0.5555555555555556,
              "#d8576b"
             ],
             [
              0.6666666666666666,
              "#ed7953"
             ],
             [
              0.7777777777777778,
              "#fb9f3a"
             ],
             [
              0.8888888888888888,
              "#fdca26"
             ],
             [
              1,
              "#f0f921"
             ]
            ],
            "type": "heatmapgl"
           }
          ],
          "histogram": [
           {
            "marker": {
             "pattern": {
              "fillmode": "overlay",
              "size": 10,
              "solidity": 0.2
             }
            },
            "type": "histogram"
           }
          ],
          "histogram2d": [
           {
            "colorbar": {
             "outlinewidth": 0,
             "ticks": ""
            },
            "colorscale": [
             [
              0,
              "#0d0887"
             ],
             [
              0.1111111111111111,
              "#46039f"
             ],
             [
              0.2222222222222222,
              "#7201a8"
             ],
             [
              0.3333333333333333,
              "#9c179e"
             ],
             [
              0.4444444444444444,
              "#bd3786"
             ],
             [
              0.5555555555555556,
              "#d8576b"
             ],
             [
              0.6666666666666666,
              "#ed7953"
             ],
             [
              0.7777777777777778,
              "#fb9f3a"
             ],
             [
              0.8888888888888888,
              "#fdca26"
             ],
             [
              1,
              "#f0f921"
             ]
            ],
            "type": "histogram2d"
           }
          ],
          "histogram2dcontour": [
           {
            "colorbar": {
             "outlinewidth": 0,
             "ticks": ""
            },
            "colorscale": [
             [
              0,
              "#0d0887"
             ],
             [
              0.1111111111111111,
              "#46039f"
             ],
             [
              0.2222222222222222,
              "#7201a8"
             ],
             [
              0.3333333333333333,
              "#9c179e"
             ],
             [
              0.4444444444444444,
              "#bd3786"
             ],
             [
              0.5555555555555556,
              "#d8576b"
             ],
             [
              0.6666666666666666,
              "#ed7953"
             ],
             [
              0.7777777777777778,
              "#fb9f3a"
             ],
             [
              0.8888888888888888,
              "#fdca26"
             ],
             [
              1,
              "#f0f921"
             ]
            ],
            "type": "histogram2dcontour"
           }
          ],
          "mesh3d": [
           {
            "colorbar": {
             "outlinewidth": 0,
             "ticks": ""
            },
            "type": "mesh3d"
           }
          ],
          "parcoords": [
           {
            "line": {
             "colorbar": {
              "outlinewidth": 0,
              "ticks": ""
             }
            },
            "type": "parcoords"
           }
          ],
          "pie": [
           {
            "automargin": true,
            "type": "pie"
           }
          ],
          "scatter": [
           {
            "fillpattern": {
             "fillmode": "overlay",
             "size": 10,
             "solidity": 0.2
            },
            "type": "scatter"
           }
          ],
          "scatter3d": [
           {
            "line": {
             "colorbar": {
              "outlinewidth": 0,
              "ticks": ""
             }
            },
            "marker": {
             "colorbar": {
              "outlinewidth": 0,
              "ticks": ""
             }
            },
            "type": "scatter3d"
           }
          ],
          "scattercarpet": [
           {
            "marker": {
             "colorbar": {
              "outlinewidth": 0,
              "ticks": ""
             }
            },
            "type": "scattercarpet"
           }
          ],
          "scattergeo": [
           {
            "marker": {
             "colorbar": {
              "outlinewidth": 0,
              "ticks": ""
             }
            },
            "type": "scattergeo"
           }
          ],
          "scattergl": [
           {
            "marker": {
             "colorbar": {
              "outlinewidth": 0,
              "ticks": ""
             }
            },
            "type": "scattergl"
           }
          ],
          "scattermapbox": [
           {
            "marker": {
             "colorbar": {
              "outlinewidth": 0,
              "ticks": ""
             }
            },
            "type": "scattermapbox"
           }
          ],
          "scatterpolar": [
           {
            "marker": {
             "colorbar": {
              "outlinewidth": 0,
              "ticks": ""
             }
            },
            "type": "scatterpolar"
           }
          ],
          "scatterpolargl": [
           {
            "marker": {
             "colorbar": {
              "outlinewidth": 0,
              "ticks": ""
             }
            },
            "type": "scatterpolargl"
           }
          ],
          "scatterternary": [
           {
            "marker": {
             "colorbar": {
              "outlinewidth": 0,
              "ticks": ""
             }
            },
            "type": "scatterternary"
           }
          ],
          "surface": [
           {
            "colorbar": {
             "outlinewidth": 0,
             "ticks": ""
            },
            "colorscale": [
             [
              0,
              "#0d0887"
             ],
             [
              0.1111111111111111,
              "#46039f"
             ],
             [
              0.2222222222222222,
              "#7201a8"
             ],
             [
              0.3333333333333333,
              "#9c179e"
             ],
             [
              0.4444444444444444,
              "#bd3786"
             ],
             [
              0.5555555555555556,
              "#d8576b"
             ],
             [
              0.6666666666666666,
              "#ed7953"
             ],
             [
              0.7777777777777778,
              "#fb9f3a"
             ],
             [
              0.8888888888888888,
              "#fdca26"
             ],
             [
              1,
              "#f0f921"
             ]
            ],
            "type": "surface"
           }
          ],
          "table": [
           {
            "cells": {
             "fill": {
              "color": "#EBF0F8"
             },
             "line": {
              "color": "white"
             }
            },
            "header": {
             "fill": {
              "color": "#C8D4E3"
             },
             "line": {
              "color": "white"
             }
            },
            "type": "table"
           }
          ]
         },
         "layout": {
          "annotationdefaults": {
           "arrowcolor": "#2a3f5f",
           "arrowhead": 0,
           "arrowwidth": 1
          },
          "autotypenumbers": "strict",
          "coloraxis": {
           "colorbar": {
            "outlinewidth": 0,
            "ticks": ""
           }
          },
          "colorscale": {
           "diverging": [
            [
             0,
             "#8e0152"
            ],
            [
             0.1,
             "#c51b7d"
            ],
            [
             0.2,
             "#de77ae"
            ],
            [
             0.3,
             "#f1b6da"
            ],
            [
             0.4,
             "#fde0ef"
            ],
            [
             0.5,
             "#f7f7f7"
            ],
            [
             0.6,
             "#e6f5d0"
            ],
            [
             0.7,
             "#b8e186"
            ],
            [
             0.8,
             "#7fbc41"
            ],
            [
             0.9,
             "#4d9221"
            ],
            [
             1,
             "#276419"
            ]
           ],
           "sequential": [
            [
             0,
             "#0d0887"
            ],
            [
             0.1111111111111111,
             "#46039f"
            ],
            [
             0.2222222222222222,
             "#7201a8"
            ],
            [
             0.3333333333333333,
             "#9c179e"
            ],
            [
             0.4444444444444444,
             "#bd3786"
            ],
            [
             0.5555555555555556,
             "#d8576b"
            ],
            [
             0.6666666666666666,
             "#ed7953"
            ],
            [
             0.7777777777777778,
             "#fb9f3a"
            ],
            [
             0.8888888888888888,
             "#fdca26"
            ],
            [
             1,
             "#f0f921"
            ]
           ],
           "sequentialminus": [
            [
             0,
             "#0d0887"
            ],
            [
             0.1111111111111111,
             "#46039f"
            ],
            [
             0.2222222222222222,
             "#7201a8"
            ],
            [
             0.3333333333333333,
             "#9c179e"
            ],
            [
             0.4444444444444444,
             "#bd3786"
            ],
            [
             0.5555555555555556,
             "#d8576b"
            ],
            [
             0.6666666666666666,
             "#ed7953"
            ],
            [
             0.7777777777777778,
             "#fb9f3a"
            ],
            [
             0.8888888888888888,
             "#fdca26"
            ],
            [
             1,
             "#f0f921"
            ]
           ]
          },
          "colorway": [
           "#636efa",
           "#EF553B",
           "#00cc96",
           "#ab63fa",
           "#FFA15A",
           "#19d3f3",
           "#FF6692",
           "#B6E880",
           "#FF97FF",
           "#FECB52"
          ],
          "font": {
           "color": "#2a3f5f"
          },
          "geo": {
           "bgcolor": "white",
           "lakecolor": "white",
           "landcolor": "#E5ECF6",
           "showlakes": true,
           "showland": true,
           "subunitcolor": "white"
          },
          "hoverlabel": {
           "align": "left"
          },
          "hovermode": "closest",
          "mapbox": {
           "style": "light"
          },
          "paper_bgcolor": "white",
          "plot_bgcolor": "#E5ECF6",
          "polar": {
           "angularaxis": {
            "gridcolor": "white",
            "linecolor": "white",
            "ticks": ""
           },
           "bgcolor": "#E5ECF6",
           "radialaxis": {
            "gridcolor": "white",
            "linecolor": "white",
            "ticks": ""
           }
          },
          "scene": {
           "xaxis": {
            "backgroundcolor": "#E5ECF6",
            "gridcolor": "white",
            "gridwidth": 2,
            "linecolor": "white",
            "showbackground": true,
            "ticks": "",
            "zerolinecolor": "white"
           },
           "yaxis": {
            "backgroundcolor": "#E5ECF6",
            "gridcolor": "white",
            "gridwidth": 2,
            "linecolor": "white",
            "showbackground": true,
            "ticks": "",
            "zerolinecolor": "white"
           },
           "zaxis": {
            "backgroundcolor": "#E5ECF6",
            "gridcolor": "white",
            "gridwidth": 2,
            "linecolor": "white",
            "showbackground": true,
            "ticks": "",
            "zerolinecolor": "white"
           }
          },
          "shapedefaults": {
           "line": {
            "color": "#2a3f5f"
           }
          },
          "ternary": {
           "aaxis": {
            "gridcolor": "white",
            "linecolor": "white",
            "ticks": ""
           },
           "baxis": {
            "gridcolor": "white",
            "linecolor": "white",
            "ticks": ""
           },
           "bgcolor": "#E5ECF6",
           "caxis": {
            "gridcolor": "white",
            "linecolor": "white",
            "ticks": ""
           }
          },
          "title": {
           "x": 0.05
          },
          "xaxis": {
           "automargin": true,
           "gridcolor": "white",
           "linecolor": "white",
           "ticks": "",
           "title": {
            "standoff": 15
           },
           "zerolinecolor": "white",
           "zerolinewidth": 2
          },
          "yaxis": {
           "automargin": true,
           "gridcolor": "white",
           "linecolor": "white",
           "ticks": "",
           "title": {
            "standoff": 15
           },
           "zerolinecolor": "white",
           "zerolinewidth": 2
          }
         }
        },
        "title": {
         "font": {
          "color": "#4D5663"
         },
         "text": "Top 100 words after removing stop words"
        },
        "xaxis": {
         "gridcolor": "#E1E5ED",
         "linecolor": "black",
         "showgrid": true,
         "tickfont": {
          "color": "#4D5663"
         },
         "title": {
          "font": {
           "color": "#4D5663"
          },
          "text": ""
         },
         "zerolinecolor": "#E1E5ED"
        },
        "yaxis": {
         "gridcolor": "#E1E5ED",
         "linecolor": "black",
         "showgrid": true,
         "tickfont": {
          "color": "#4D5663"
         },
         "title": {
          "font": {
           "color": "#4D5663"
          },
          "text": "Count"
         },
         "zerolinecolor": "#E1E5ED"
        }
       }
      },
      "text/html": [
       "<div>                            <div id=\"dd18d7fc-8f92-4e30-925f-1e78fe72b2fe\" class=\"plotly-graph-div\" style=\"height:525px; width:100%;\"></div>            <script type=\"text/javascript\">                require([\"plotly\"], function(Plotly) {                    window.PLOTLYENV=window.PLOTLYENV || {};\n",
       "                    window.PLOTLYENV.BASE_URL='https://plot.ly';                                    if (document.getElementById(\"dd18d7fc-8f92-4e30-925f-1e78fe72b2fe\")) {                    Plotly.newPlot(                        \"dd18d7fc-8f92-4e30-925f-1e78fe72b2fe\",                        [{\"marker\":{\"color\":\"rgba(255, 153, 51, 0.6)\",\"line\":{\"color\":\"rgba(255, 153, 51, 1.0)\",\"width\":1}},\"name\":\"count\",\"orientation\":\"v\",\"text\":\"\",\"x\":[\"collection\",\"https\",\"nft\",\"mint\",\"unique\",\"art\",\"create\",\"world\",\"community\",\"project\",\"free\",\"holder\",\"first\",\"make\",\"access\",\"artist\",\"use\",\"com\",\"metaverse\",\"live\",\"work\",\"game\",\"exclusive\",\"new\",\"token\",\"time\",\"get\",\"piece\",\"come\",\"also\",\"website\",\"digital\",\"future\",\"trait\",\"build\",\"web\",\"base\",\"take\",\"ape\",\"life\",\"give\",\"visit\",\"go\",\"space\",\"find\",\"join\",\"pass\",\"character\",\"utility\",\"different\",\"generate\",\"bring\",\"include\",\"feature\",\"experience\",\"inspire\",\"love\",\"benefit\",\"see\",\"member\",\"opensea\",\"official\",\"special\",\"people\",\"ethereum\",\"way\",\"collectible\",\"event\",\"year\",\"design\",\"image\",\"real\",\"original\",\"reward\",\"want\",\"part\",\"drop\",\"together\",\"become\",\"artwork\",\"know\",\"good\",\"help\",\"owner\",\"music\",\"sell\",\"many\",\"item\",\"hold\",\"start\",\"look\",\"provide\",\"story\",\"contract\",\"represent\",\"release\",\"ever\",\"club\",\"airdrop\",\"power\"],\"y\":[6440,2899,2544,2417,2316,2291,1939,1673,1670,1570,1379,1322,1315,1275,1239,1224,1216,1186,1181,1174,1071,1061,1000,966,943,914,836,790,780,755,742,737,734,684,679,671,667,667,665,656,646,639,637,597,595,594,589,588,574,572,567,566,548,546,543,535,534,529,528,512,511,509,505,503,500,486,483,479,472,469,462,459,453,450,447,443,436,435,422,419,413,410,399,397,396,395,391,382,377,377,372,370,368,368,368,368,367,365,363,362],\"type\":\"bar\"}],                        {\"legend\":{\"bgcolor\":\"#F5F6F9\",\"font\":{\"color\":\"#4D5663\"}},\"paper_bgcolor\":\"#F5F6F9\",\"plot_bgcolor\":\"#F5F6F9\",\"template\":{\"data\":{\"barpolar\":[{\"marker\":{\"line\":{\"color\":\"#E5ECF6\",\"width\":0.5},\"pattern\":{\"fillmode\":\"overlay\",\"size\":10,\"solidity\":0.2}},\"type\":\"barpolar\"}],\"bar\":[{\"error_x\":{\"color\":\"#2a3f5f\"},\"error_y\":{\"color\":\"#2a3f5f\"},\"marker\":{\"line\":{\"color\":\"#E5ECF6\",\"width\":0.5},\"pattern\":{\"fillmode\":\"overlay\",\"size\":10,\"solidity\":0.2}},\"type\":\"bar\"}],\"carpet\":[{\"aaxis\":{\"endlinecolor\":\"#2a3f5f\",\"gridcolor\":\"white\",\"linecolor\":\"white\",\"minorgridcolor\":\"white\",\"startlinecolor\":\"#2a3f5f\"},\"baxis\":{\"endlinecolor\":\"#2a3f5f\",\"gridcolor\":\"white\",\"linecolor\":\"white\",\"minorgridcolor\":\"white\",\"startlinecolor\":\"#2a3f5f\"},\"type\":\"carpet\"}],\"choropleth\":[{\"colorbar\":{\"outlinewidth\":0,\"ticks\":\"\"},\"type\":\"choropleth\"}],\"contourcarpet\":[{\"colorbar\":{\"outlinewidth\":0,\"ticks\":\"\"},\"type\":\"contourcarpet\"}],\"contour\":[{\"colorbar\":{\"outlinewidth\":0,\"ticks\":\"\"},\"colorscale\":[[0.0,\"#0d0887\"],[0.1111111111111111,\"#46039f\"],[0.2222222222222222,\"#7201a8\"],[0.3333333333333333,\"#9c179e\"],[0.4444444444444444,\"#bd3786\"],[0.5555555555555556,\"#d8576b\"],[0.6666666666666666,\"#ed7953\"],[0.7777777777777778,\"#fb9f3a\"],[0.8888888888888888,\"#fdca26\"],[1.0,\"#f0f921\"]],\"type\":\"contour\"}],\"heatmapgl\":[{\"colorbar\":{\"outlinewidth\":0,\"ticks\":\"\"},\"colorscale\":[[0.0,\"#0d0887\"],[0.1111111111111111,\"#46039f\"],[0.2222222222222222,\"#7201a8\"],[0.3333333333333333,\"#9c179e\"],[0.4444444444444444,\"#bd3786\"],[0.5555555555555556,\"#d8576b\"],[0.6666666666666666,\"#ed7953\"],[0.7777777777777778,\"#fb9f3a\"],[0.8888888888888888,\"#fdca26\"],[1.0,\"#f0f921\"]],\"type\":\"heatmapgl\"}],\"heatmap\":[{\"colorbar\":{\"outlinewidth\":0,\"ticks\":\"\"},\"colorscale\":[[0.0,\"#0d0887\"],[0.1111111111111111,\"#46039f\"],[0.2222222222222222,\"#7201a8\"],[0.3333333333333333,\"#9c179e\"],[0.4444444444444444,\"#bd3786\"],[0.5555555555555556,\"#d8576b\"],[0.6666666666666666,\"#ed7953\"],[0.7777777777777778,\"#fb9f3a\"],[0.8888888888888888,\"#fdca26\"],[1.0,\"#f0f921\"]],\"type\":\"heatmap\"}],\"histogram2dcontour\":[{\"colorbar\":{\"outlinewidth\":0,\"ticks\":\"\"},\"colorscale\":[[0.0,\"#0d0887\"],[0.1111111111111111,\"#46039f\"],[0.2222222222222222,\"#7201a8\"],[0.3333333333333333,\"#9c179e\"],[0.4444444444444444,\"#bd3786\"],[0.5555555555555556,\"#d8576b\"],[0.6666666666666666,\"#ed7953\"],[0.7777777777777778,\"#fb9f3a\"],[0.8888888888888888,\"#fdca26\"],[1.0,\"#f0f921\"]],\"type\":\"histogram2dcontour\"}],\"histogram2d\":[{\"colorbar\":{\"outlinewidth\":0,\"ticks\":\"\"},\"colorscale\":[[0.0,\"#0d0887\"],[0.1111111111111111,\"#46039f\"],[0.2222222222222222,\"#7201a8\"],[0.3333333333333333,\"#9c179e\"],[0.4444444444444444,\"#bd3786\"],[0.5555555555555556,\"#d8576b\"],[0.6666666666666666,\"#ed7953\"],[0.7777777777777778,\"#fb9f3a\"],[0.8888888888888888,\"#fdca26\"],[1.0,\"#f0f921\"]],\"type\":\"histogram2d\"}],\"histogram\":[{\"marker\":{\"pattern\":{\"fillmode\":\"overlay\",\"size\":10,\"solidity\":0.2}},\"type\":\"histogram\"}],\"mesh3d\":[{\"colorbar\":{\"outlinewidth\":0,\"ticks\":\"\"},\"type\":\"mesh3d\"}],\"parcoords\":[{\"line\":{\"colorbar\":{\"outlinewidth\":0,\"ticks\":\"\"}},\"type\":\"parcoords\"}],\"pie\":[{\"automargin\":true,\"type\":\"pie\"}],\"scatter3d\":[{\"line\":{\"colorbar\":{\"outlinewidth\":0,\"ticks\":\"\"}},\"marker\":{\"colorbar\":{\"outlinewidth\":0,\"ticks\":\"\"}},\"type\":\"scatter3d\"}],\"scattercarpet\":[{\"marker\":{\"colorbar\":{\"outlinewidth\":0,\"ticks\":\"\"}},\"type\":\"scattercarpet\"}],\"scattergeo\":[{\"marker\":{\"colorbar\":{\"outlinewidth\":0,\"ticks\":\"\"}},\"type\":\"scattergeo\"}],\"scattergl\":[{\"marker\":{\"colorbar\":{\"outlinewidth\":0,\"ticks\":\"\"}},\"type\":\"scattergl\"}],\"scattermapbox\":[{\"marker\":{\"colorbar\":{\"outlinewidth\":0,\"ticks\":\"\"}},\"type\":\"scattermapbox\"}],\"scatterpolargl\":[{\"marker\":{\"colorbar\":{\"outlinewidth\":0,\"ticks\":\"\"}},\"type\":\"scatterpolargl\"}],\"scatterpolar\":[{\"marker\":{\"colorbar\":{\"outlinewidth\":0,\"ticks\":\"\"}},\"type\":\"scatterpolar\"}],\"scatter\":[{\"fillpattern\":{\"fillmode\":\"overlay\",\"size\":10,\"solidity\":0.2},\"type\":\"scatter\"}],\"scatterternary\":[{\"marker\":{\"colorbar\":{\"outlinewidth\":0,\"ticks\":\"\"}},\"type\":\"scatterternary\"}],\"surface\":[{\"colorbar\":{\"outlinewidth\":0,\"ticks\":\"\"},\"colorscale\":[[0.0,\"#0d0887\"],[0.1111111111111111,\"#46039f\"],[0.2222222222222222,\"#7201a8\"],[0.3333333333333333,\"#9c179e\"],[0.4444444444444444,\"#bd3786\"],[0.5555555555555556,\"#d8576b\"],[0.6666666666666666,\"#ed7953\"],[0.7777777777777778,\"#fb9f3a\"],[0.8888888888888888,\"#fdca26\"],[1.0,\"#f0f921\"]],\"type\":\"surface\"}],\"table\":[{\"cells\":{\"fill\":{\"color\":\"#EBF0F8\"},\"line\":{\"color\":\"white\"}},\"header\":{\"fill\":{\"color\":\"#C8D4E3\"},\"line\":{\"color\":\"white\"}},\"type\":\"table\"}]},\"layout\":{\"annotationdefaults\":{\"arrowcolor\":\"#2a3f5f\",\"arrowhead\":0,\"arrowwidth\":1},\"autotypenumbers\":\"strict\",\"coloraxis\":{\"colorbar\":{\"outlinewidth\":0,\"ticks\":\"\"}},\"colorscale\":{\"diverging\":[[0,\"#8e0152\"],[0.1,\"#c51b7d\"],[0.2,\"#de77ae\"],[0.3,\"#f1b6da\"],[0.4,\"#fde0ef\"],[0.5,\"#f7f7f7\"],[0.6,\"#e6f5d0\"],[0.7,\"#b8e186\"],[0.8,\"#7fbc41\"],[0.9,\"#4d9221\"],[1,\"#276419\"]],\"sequential\":[[0.0,\"#0d0887\"],[0.1111111111111111,\"#46039f\"],[0.2222222222222222,\"#7201a8\"],[0.3333333333333333,\"#9c179e\"],[0.4444444444444444,\"#bd3786\"],[0.5555555555555556,\"#d8576b\"],[0.6666666666666666,\"#ed7953\"],[0.7777777777777778,\"#fb9f3a\"],[0.8888888888888888,\"#fdca26\"],[1.0,\"#f0f921\"]],\"sequentialminus\":[[0.0,\"#0d0887\"],[0.1111111111111111,\"#46039f\"],[0.2222222222222222,\"#7201a8\"],[0.3333333333333333,\"#9c179e\"],[0.4444444444444444,\"#bd3786\"],[0.5555555555555556,\"#d8576b\"],[0.6666666666666666,\"#ed7953\"],[0.7777777777777778,\"#fb9f3a\"],[0.8888888888888888,\"#fdca26\"],[1.0,\"#f0f921\"]]},\"colorway\":[\"#636efa\",\"#EF553B\",\"#00cc96\",\"#ab63fa\",\"#FFA15A\",\"#19d3f3\",\"#FF6692\",\"#B6E880\",\"#FF97FF\",\"#FECB52\"],\"font\":{\"color\":\"#2a3f5f\"},\"geo\":{\"bgcolor\":\"white\",\"lakecolor\":\"white\",\"landcolor\":\"#E5ECF6\",\"showlakes\":true,\"showland\":true,\"subunitcolor\":\"white\"},\"hoverlabel\":{\"align\":\"left\"},\"hovermode\":\"closest\",\"mapbox\":{\"style\":\"light\"},\"paper_bgcolor\":\"white\",\"plot_bgcolor\":\"#E5ECF6\",\"polar\":{\"angularaxis\":{\"gridcolor\":\"white\",\"linecolor\":\"white\",\"ticks\":\"\"},\"bgcolor\":\"#E5ECF6\",\"radialaxis\":{\"gridcolor\":\"white\",\"linecolor\":\"white\",\"ticks\":\"\"}},\"scene\":{\"xaxis\":{\"backgroundcolor\":\"#E5ECF6\",\"gridcolor\":\"white\",\"gridwidth\":2,\"linecolor\":\"white\",\"showbackground\":true,\"ticks\":\"\",\"zerolinecolor\":\"white\"},\"yaxis\":{\"backgroundcolor\":\"#E5ECF6\",\"gridcolor\":\"white\",\"gridwidth\":2,\"linecolor\":\"white\",\"showbackground\":true,\"ticks\":\"\",\"zerolinecolor\":\"white\"},\"zaxis\":{\"backgroundcolor\":\"#E5ECF6\",\"gridcolor\":\"white\",\"gridwidth\":2,\"linecolor\":\"white\",\"showbackground\":true,\"ticks\":\"\",\"zerolinecolor\":\"white\"}},\"shapedefaults\":{\"line\":{\"color\":\"#2a3f5f\"}},\"ternary\":{\"aaxis\":{\"gridcolor\":\"white\",\"linecolor\":\"white\",\"ticks\":\"\"},\"baxis\":{\"gridcolor\":\"white\",\"linecolor\":\"white\",\"ticks\":\"\"},\"bgcolor\":\"#E5ECF6\",\"caxis\":{\"gridcolor\":\"white\",\"linecolor\":\"white\",\"ticks\":\"\"}},\"title\":{\"x\":0.05},\"xaxis\":{\"automargin\":true,\"gridcolor\":\"white\",\"linecolor\":\"white\",\"ticks\":\"\",\"title\":{\"standoff\":15},\"zerolinecolor\":\"white\",\"zerolinewidth\":2},\"yaxis\":{\"automargin\":true,\"gridcolor\":\"white\",\"linecolor\":\"white\",\"ticks\":\"\",\"title\":{\"standoff\":15},\"zerolinecolor\":\"white\",\"zerolinewidth\":2}}},\"title\":{\"font\":{\"color\":\"#4D5663\"},\"text\":\"Top 100 words after removing stop words\"},\"xaxis\":{\"gridcolor\":\"#E1E5ED\",\"linecolor\":\"black\",\"showgrid\":true,\"tickfont\":{\"color\":\"#4D5663\"},\"title\":{\"font\":{\"color\":\"#4D5663\"},\"text\":\"\"},\"zerolinecolor\":\"#E1E5ED\"},\"yaxis\":{\"gridcolor\":\"#E1E5ED\",\"linecolor\":\"black\",\"showgrid\":true,\"tickfont\":{\"color\":\"#4D5663\"},\"title\":{\"font\":{\"color\":\"#4D5663\"},\"text\":\"Count\"},\"zerolinecolor\":\"#E1E5ED\"}},                        {\"showLink\": true, \"linkText\": \"Export to plot.ly\", \"plotlyServerURL\": \"https://plot.ly\", \"responsive\": true}                    ).then(function(){\n",
       "                            \n",
       "var gd = document.getElementById('dd18d7fc-8f92-4e30-925f-1e78fe72b2fe');\n",
       "var x = new MutationObserver(function (mutations, observer) {{\n",
       "        var display = window.getComputedStyle(gd).display;\n",
       "        if (!display || display === 'none') {{\n",
       "            console.log([gd, 'removed!']);\n",
       "            Plotly.purge(gd);\n",
       "            observer.disconnect();\n",
       "        }}\n",
       "}});\n",
       "\n",
       "// Listen for the removal of the full notebook cells\n",
       "var notebookContainer = gd.closest('#notebook-container');\n",
       "if (notebookContainer) {{\n",
       "    x.observe(notebookContainer, {childList: true});\n",
       "}}\n",
       "\n",
       "// Listen for the clearing of the current output cell\n",
       "var outputEl = gd.closest('.output');\n",
       "if (outputEl) {{\n",
       "    x.observe(outputEl, {childList: true});\n",
       "}}\n",
       "\n",
       "                        })                };                });            </script>        </div>"
      ]
     },
     "metadata": {},
     "output_type": "display_data"
    }
   ],
   "source": [
    "plot_model()"
   ]
  },
  {
   "cell_type": "code",
   "execution_count": 12,
   "metadata": {},
   "outputs": [
    {
     "data": {
      "text/html": [
       "<div>\n",
       "<style scoped>\n",
       "    .dataframe tbody tr th:only-of-type {\n",
       "        vertical-align: middle;\n",
       "    }\n",
       "\n",
       "    .dataframe tbody tr th {\n",
       "        vertical-align: top;\n",
       "    }\n",
       "\n",
       "    .dataframe thead th {\n",
       "        text-align: right;\n",
       "    }\n",
       "</style>\n",
       "<table border=\"1\" class=\"dataframe\">\n",
       "  <thead>\n",
       "    <tr style=\"text-align: right;\">\n",
       "      <th></th>\n",
       "      <th>en</th>\n",
       "      <th>Topic_0</th>\n",
       "      <th>Topic_1</th>\n",
       "      <th>Topic_2</th>\n",
       "      <th>Topic_3</th>\n",
       "      <th>Dominant_Topic</th>\n",
       "      <th>Perc_Dominant_Topic</th>\n",
       "    </tr>\n",
       "  </thead>\n",
       "  <tbody>\n",
       "    <tr>\n",
       "      <th>0</th>\n",
       "      <td></td>\n",
       "      <td>0.223676</td>\n",
       "      <td>0.282073</td>\n",
       "      <td>0.228630</td>\n",
       "      <td>0.265621</td>\n",
       "      <td>Topic 1</td>\n",
       "      <td>0.28</td>\n",
       "    </tr>\n",
       "    <tr>\n",
       "      <th>1</th>\n",
       "      <td></td>\n",
       "      <td>0.223676</td>\n",
       "      <td>0.282073</td>\n",
       "      <td>0.228630</td>\n",
       "      <td>0.265621</td>\n",
       "      <td>Topic 1</td>\n",
       "      <td>0.28</td>\n",
       "    </tr>\n",
       "    <tr>\n",
       "      <th>2</th>\n",
       "      <td>ticket</td>\n",
       "      <td>0.203006</td>\n",
       "      <td>0.348419</td>\n",
       "      <td>0.207501</td>\n",
       "      <td>0.241074</td>\n",
       "      <td>Topic 1</td>\n",
       "      <td>0.35</td>\n",
       "    </tr>\n",
       "    <tr>\n",
       "      <th>3</th>\n",
       "      <td>serve historical piece ethereum focus hispanic...</td>\n",
       "      <td>0.142604</td>\n",
       "      <td>0.383292</td>\n",
       "      <td>0.325228</td>\n",
       "      <td>0.148876</td>\n",
       "      <td>Topic 1</td>\n",
       "      <td>0.38</td>\n",
       "    </tr>\n",
       "    <tr>\n",
       "      <th>4</th>\n",
       "      <td></td>\n",
       "      <td>0.223676</td>\n",
       "      <td>0.282073</td>\n",
       "      <td>0.228630</td>\n",
       "      <td>0.265621</td>\n",
       "      <td>Topic 1</td>\n",
       "      <td>0.28</td>\n",
       "    </tr>\n",
       "    <tr>\n",
       "      <th>...</th>\n",
       "      <td>...</td>\n",
       "      <td>...</td>\n",
       "      <td>...</td>\n",
       "      <td>...</td>\n",
       "      <td>...</td>\n",
       "      <td>...</td>\n",
       "      <td>...</td>\n",
       "    </tr>\n",
       "    <tr>\n",
       "      <th>44027</th>\n",
       "      <td></td>\n",
       "      <td>0.223676</td>\n",
       "      <td>0.282073</td>\n",
       "      <td>0.228630</td>\n",
       "      <td>0.265621</td>\n",
       "      <td>Topic 1</td>\n",
       "      <td>0.28</td>\n",
       "    </tr>\n",
       "    <tr>\n",
       "      <th>44028</th>\n",
       "      <td>first collection wobble wobble wobbleverse acc...</td>\n",
       "      <td>0.167740</td>\n",
       "      <td>0.381809</td>\n",
       "      <td>0.052588</td>\n",
       "      <td>0.397863</td>\n",
       "      <td>Topic 3</td>\n",
       "      <td>0.40</td>\n",
       "    </tr>\n",
       "    <tr>\n",
       "      <th>44029</th>\n",
       "      <td>first ever transposition later metaverse colle...</td>\n",
       "      <td>0.129813</td>\n",
       "      <td>0.362742</td>\n",
       "      <td>0.081383</td>\n",
       "      <td>0.426062</td>\n",
       "      <td>Topic 3</td>\n",
       "      <td>0.43</td>\n",
       "    </tr>\n",
       "    <tr>\n",
       "      <th>44030</th>\n",
       "      <td></td>\n",
       "      <td>0.223676</td>\n",
       "      <td>0.282073</td>\n",
       "      <td>0.228630</td>\n",
       "      <td>0.265621</td>\n",
       "      <td>Topic 1</td>\n",
       "      <td>0.28</td>\n",
       "    </tr>\n",
       "    <tr>\n",
       "      <th>44031</th>\n",
       "      <td></td>\n",
       "      <td>0.223676</td>\n",
       "      <td>0.282073</td>\n",
       "      <td>0.228630</td>\n",
       "      <td>0.265621</td>\n",
       "      <td>Topic 1</td>\n",
       "      <td>0.28</td>\n",
       "    </tr>\n",
       "  </tbody>\n",
       "</table>\n",
       "<p>44032 rows × 7 columns</p>\n",
       "</div>"
      ],
      "text/plain": [
       "                                                      en   Topic_0   Topic_1  \\\n",
       "0                                                         0.223676  0.282073   \n",
       "1                                                         0.223676  0.282073   \n",
       "2                                                 ticket  0.203006  0.348419   \n",
       "3      serve historical piece ethereum focus hispanic...  0.142604  0.383292   \n",
       "4                                                         0.223676  0.282073   \n",
       "...                                                  ...       ...       ...   \n",
       "44027                                                     0.223676  0.282073   \n",
       "44028  first collection wobble wobble wobbleverse acc...  0.167740  0.381809   \n",
       "44029  first ever transposition later metaverse colle...  0.129813  0.362742   \n",
       "44030                                                     0.223676  0.282073   \n",
       "44031                                                     0.223676  0.282073   \n",
       "\n",
       "        Topic_2   Topic_3 Dominant_Topic  Perc_Dominant_Topic  \n",
       "0      0.228630  0.265621        Topic 1                 0.28  \n",
       "1      0.228630  0.265621        Topic 1                 0.28  \n",
       "2      0.207501  0.241074        Topic 1                 0.35  \n",
       "3      0.325228  0.148876        Topic 1                 0.38  \n",
       "4      0.228630  0.265621        Topic 1                 0.28  \n",
       "...         ...       ...            ...                  ...  \n",
       "44027  0.228630  0.265621        Topic 1                 0.28  \n",
       "44028  0.052588  0.397863        Topic 3                 0.40  \n",
       "44029  0.081383  0.426062        Topic 3                 0.43  \n",
       "44030  0.228630  0.265621        Topic 1                 0.28  \n",
       "44031  0.228630  0.265621        Topic 1                 0.28  \n",
       "\n",
       "[44032 rows x 7 columns]"
      ]
     },
     "execution_count": 12,
     "metadata": {},
     "output_type": "execute_result"
    }
   ],
   "source": [
    "lda_results"
   ]
  },
  {
   "cell_type": "code",
   "execution_count": 17,
   "metadata": {},
   "outputs": [],
   "source": [
    "df['topic'] = lda_results['Dominant_Topic']"
   ]
  },
  {
   "cell_type": "code",
   "execution_count": 18,
   "metadata": {},
   "outputs": [
    {
     "data": {
      "text/html": [
       "<div>\n",
       "<style scoped>\n",
       "    .dataframe tbody tr th:only-of-type {\n",
       "        vertical-align: middle;\n",
       "    }\n",
       "\n",
       "    .dataframe tbody tr th {\n",
       "        vertical-align: top;\n",
       "    }\n",
       "\n",
       "    .dataframe thead th {\n",
       "        text-align: right;\n",
       "    }\n",
       "</style>\n",
       "<table border=\"1\" class=\"dataframe\">\n",
       "  <thead>\n",
       "    <tr style=\"text-align: right;\">\n",
       "      <th></th>\n",
       "      <th>pk</th>\n",
       "      <th>contract_address</th>\n",
       "      <th>contract_schema</th>\n",
       "      <th>contract_ticker_symbol</th>\n",
       "      <th>display_name</th>\n",
       "      <th>description</th>\n",
       "      <th>banner_image_url</th>\n",
       "      <th>collection_image_url</th>\n",
       "      <th>is_nsfw</th>\n",
       "      <th>display_state</th>\n",
       "      <th>display_state_reason</th>\n",
       "      <th>external.discord</th>\n",
       "      <th>external.instagram</th>\n",
       "      <th>external.telegram</th>\n",
       "      <th>external.twitter</th>\n",
       "      <th>external.os_slug</th>\n",
       "      <th>external.urls</th>\n",
       "      <th>flags.os_hidden</th>\n",
       "      <th>flags.os_is_nsfw</th>\n",
       "      <th>flags.os_safelist_state</th>\n",
       "      <th>flags.code_verified</th>\n",
       "      <th>flags.functions_threshold</th>\n",
       "      <th>flags.approval_threshold</th>\n",
       "      <th>flags.bytecode_threshold</th>\n",
       "      <th>flags.did_self_destruct</th>\n",
       "      <th>flags.is_whitelisted_proxy</th>\n",
       "      <th>display_stats.floor_price</th>\n",
       "      <th>display_stats.supply</th>\n",
       "      <th>display_stats.holders</th>\n",
       "      <th>display_stats.one_day_volume</th>\n",
       "      <th>display_stats.seven_day_volume</th>\n",
       "      <th>display_stats.thirty_day_volume</th>\n",
       "      <th>display_stats.total_volume</th>\n",
       "      <th>external.discord_server</th>\n",
       "      <th>external.discord_total_member</th>\n",
       "      <th>external.instagram_name</th>\n",
       "      <th>external.instagram_total_follower</th>\n",
       "      <th>external.telegram_total_member</th>\n",
       "      <th>external.has_instagram</th>\n",
       "      <th>external.has_discord</th>\n",
       "      <th>external.has_twitter</th>\n",
       "      <th>deceptive_word_count</th>\n",
       "      <th>sentiment</th>\n",
       "      <th>topic</th>\n",
       "    </tr>\n",
       "  </thead>\n",
       "  <tbody>\n",
       "    <tr>\n",
       "      <th>0</th>\n",
       "      <td>chn#eth_main:coll#0x9e11abc2d7a073ec1f62319616...</td>\n",
       "      <td>0x9e11abc2d7a073ec1f62319616d22577b216362b</td>\n",
       "      <td>ERC721</td>\n",
       "      <td>ICU</td>\n",
       "      <td>Of Human Bondage</td>\n",
       "      <td></td>\n",
       "      <td></td>\n",
       "      <td></td>\n",
       "      <td>False</td>\n",
       "      <td>1</td>\n",
       "      <td>Known ERC1167 proxy contract: Foundation</td>\n",
       "      <td></td>\n",
       "      <td></td>\n",
       "      <td></td>\n",
       "      <td></td>\n",
       "      <td>of-human-bondage</td>\n",
       "      <td>[]</td>\n",
       "      <td>False</td>\n",
       "      <td>False</td>\n",
       "      <td>not_requested</td>\n",
       "      <td>True</td>\n",
       "      <td>True</td>\n",
       "      <td>False</td>\n",
       "      <td>False</td>\n",
       "      <td>False</td>\n",
       "      <td>True</td>\n",
       "      <td>0.0000</td>\n",
       "      <td>1</td>\n",
       "      <td>1</td>\n",
       "      <td>0.0</td>\n",
       "      <td>0.000</td>\n",
       "      <td>0.00000</td>\n",
       "      <td>0.000000</td>\n",
       "      <td></td>\n",
       "      <td>0</td>\n",
       "      <td></td>\n",
       "      <td></td>\n",
       "      <td>0</td>\n",
       "      <td>False</td>\n",
       "      <td>False</td>\n",
       "      <td>False</td>\n",
       "      <td>0</td>\n",
       "      <td>4.0</td>\n",
       "      <td>Topic 1</td>\n",
       "    </tr>\n",
       "    <tr>\n",
       "      <th>1</th>\n",
       "      <td>chn#poly_main:coll#0x6c33f58f011b0e77b3d4841ff...</td>\n",
       "      <td>0x6c33f58f011b0e77b3d4841ff4baf8574abbdee3</td>\n",
       "      <td>ERC721</td>\n",
       "      <td>PNFT</td>\n",
       "      <td>PopItem</td>\n",
       "      <td></td>\n",
       "      <td></td>\n",
       "      <td></td>\n",
       "      <td>False</td>\n",
       "      <td>5</td>\n",
       "      <td>Verified code but low setApprovalForAll count</td>\n",
       "      <td></td>\n",
       "      <td></td>\n",
       "      <td></td>\n",
       "      <td></td>\n",
       "      <td></td>\n",
       "      <td>[]</td>\n",
       "      <td>False</td>\n",
       "      <td>False</td>\n",
       "      <td>not_requested</td>\n",
       "      <td>False</td>\n",
       "      <td>False</td>\n",
       "      <td>False</td>\n",
       "      <td>True</td>\n",
       "      <td>False</td>\n",
       "      <td>False</td>\n",
       "      <td>0.0000</td>\n",
       "      <td>0</td>\n",
       "      <td>0</td>\n",
       "      <td>0.0</td>\n",
       "      <td>0.000</td>\n",
       "      <td>0.00000</td>\n",
       "      <td>0.000000</td>\n",
       "      <td></td>\n",
       "      <td>0</td>\n",
       "      <td></td>\n",
       "      <td></td>\n",
       "      <td>0</td>\n",
       "      <td>False</td>\n",
       "      <td>False</td>\n",
       "      <td>False</td>\n",
       "      <td>0</td>\n",
       "      <td>4.0</td>\n",
       "      <td>Topic 1</td>\n",
       "    </tr>\n",
       "    <tr>\n",
       "      <th>2</th>\n",
       "      <td>chn#eth_main:coll#0xf220db48f0d3ca8a9833e0353e...</td>\n",
       "      <td>0xf220db48f0d3ca8a9833e0353e7497dbceae7ac6</td>\n",
       "      <td>ERC721</td>\n",
       "      <td>KARA-GACHA</td>\n",
       "      <td>Karafuru Gachapon</td>\n",
       "      <td>The Karafuru Gachapon is your access ticket to...</td>\n",
       "      <td>https://lh3.googleusercontent.com/CcIzXh0j6dG5...</td>\n",
       "      <td>https://lh3.googleusercontent.com/wUqNK1rmCYtz...</td>\n",
       "      <td>False</td>\n",
       "      <td>1</td>\n",
       "      <td>Approved on opensea</td>\n",
       "      <td>https://discord.gg/karafuru</td>\n",
       "      <td>KarafuruNFT</td>\n",
       "      <td></td>\n",
       "      <td>KarafuruNFT</td>\n",
       "      <td>karafuru-gachapon</td>\n",
       "      <td>['http://3d.karafuru.io']</td>\n",
       "      <td>False</td>\n",
       "      <td>False</td>\n",
       "      <td>approved</td>\n",
       "      <td>True</td>\n",
       "      <td>True</td>\n",
       "      <td>True</td>\n",
       "      <td>True</td>\n",
       "      <td>False</td>\n",
       "      <td>False</td>\n",
       "      <td>0.0350</td>\n",
       "      <td>6582</td>\n",
       "      <td>2818</td>\n",
       "      <td>0.0</td>\n",
       "      <td>0.095</td>\n",
       "      <td>1.51275</td>\n",
       "      <td>2984.530610</td>\n",
       "      <td>karafuru</td>\n",
       "      <td>129999</td>\n",
       "      <td>KarafuruNFT</td>\n",
       "      <td></td>\n",
       "      <td>0</td>\n",
       "      <td>True</td>\n",
       "      <td>True</td>\n",
       "      <td>True</td>\n",
       "      <td>0</td>\n",
       "      <td>4.0</td>\n",
       "      <td>Topic 1</td>\n",
       "    </tr>\n",
       "    <tr>\n",
       "      <th>3</th>\n",
       "      <td>chn#eth_main:coll#0xdc65d93d147a90994580e80da8...</td>\n",
       "      <td>0xdc65d93d147a90994580e80da819c0beaba9a8ff</td>\n",
       "      <td>ERC1155</td>\n",
       "      <td>NHA</td>\n",
       "      <td>NuestraHistoria</td>\n",
       "      <td>Nuestra Historia is a collection that will ser...</td>\n",
       "      <td>https://i.seadn.io/gcs/files/cb59f5b08d4dac531...</td>\n",
       "      <td>https://i.seadn.io/gcs/files/9ef4361d030c6c258...</td>\n",
       "      <td>False</td>\n",
       "      <td>4</td>\n",
       "      <td>Fallback state</td>\n",
       "      <td></td>\n",
       "      <td></td>\n",
       "      <td></td>\n",
       "      <td></td>\n",
       "      <td>nuestrahistoria</td>\n",
       "      <td>[]</td>\n",
       "      <td>False</td>\n",
       "      <td>False</td>\n",
       "      <td>not_requested</td>\n",
       "      <td>True</td>\n",
       "      <td>True</td>\n",
       "      <td>False</td>\n",
       "      <td>True</td>\n",
       "      <td>False</td>\n",
       "      <td>False</td>\n",
       "      <td>0.0000</td>\n",
       "      <td>1</td>\n",
       "      <td>1</td>\n",
       "      <td>0.0</td>\n",
       "      <td>0.000</td>\n",
       "      <td>0.00000</td>\n",
       "      <td>0.000000</td>\n",
       "      <td></td>\n",
       "      <td>0</td>\n",
       "      <td></td>\n",
       "      <td></td>\n",
       "      <td>0</td>\n",
       "      <td>False</td>\n",
       "      <td>False</td>\n",
       "      <td>False</td>\n",
       "      <td>0</td>\n",
       "      <td>4.0</td>\n",
       "      <td>Topic 1</td>\n",
       "    </tr>\n",
       "    <tr>\n",
       "      <th>4</th>\n",
       "      <td>chn#poly_main:coll#0xdb241f0701965cb1f73d59690...</td>\n",
       "      <td>0xdb241f0701965cb1f73d59690375229a68d4ed5a</td>\n",
       "      <td>ERC721</td>\n",
       "      <td>S.A</td>\n",
       "      <td>SHIVA</td>\n",
       "      <td></td>\n",
       "      <td></td>\n",
       "      <td></td>\n",
       "      <td>False</td>\n",
       "      <td>2</td>\n",
       "      <td>&lt; 10 functions, unlikely a standard NFT contract</td>\n",
       "      <td></td>\n",
       "      <td></td>\n",
       "      <td></td>\n",
       "      <td></td>\n",
       "      <td>shiva-jmp9jubgbl</td>\n",
       "      <td>[]</td>\n",
       "      <td>False</td>\n",
       "      <td>False</td>\n",
       "      <td>not_requested</td>\n",
       "      <td>True</td>\n",
       "      <td>False</td>\n",
       "      <td>False</td>\n",
       "      <td>True</td>\n",
       "      <td>False</td>\n",
       "      <td>False</td>\n",
       "      <td>0.0000</td>\n",
       "      <td>2</td>\n",
       "      <td>1</td>\n",
       "      <td>0.0</td>\n",
       "      <td>0.000</td>\n",
       "      <td>0.00000</td>\n",
       "      <td>0.000000</td>\n",
       "      <td></td>\n",
       "      <td>0</td>\n",
       "      <td></td>\n",
       "      <td></td>\n",
       "      <td>0</td>\n",
       "      <td>False</td>\n",
       "      <td>False</td>\n",
       "      <td>False</td>\n",
       "      <td>0</td>\n",
       "      <td>4.0</td>\n",
       "      <td>Topic 1</td>\n",
       "    </tr>\n",
       "    <tr>\n",
       "      <th>...</th>\n",
       "      <td>...</td>\n",
       "      <td>...</td>\n",
       "      <td>...</td>\n",
       "      <td>...</td>\n",
       "      <td>...</td>\n",
       "      <td>...</td>\n",
       "      <td>...</td>\n",
       "      <td>...</td>\n",
       "      <td>...</td>\n",
       "      <td>...</td>\n",
       "      <td>...</td>\n",
       "      <td>...</td>\n",
       "      <td>...</td>\n",
       "      <td>...</td>\n",
       "      <td>...</td>\n",
       "      <td>...</td>\n",
       "      <td>...</td>\n",
       "      <td>...</td>\n",
       "      <td>...</td>\n",
       "      <td>...</td>\n",
       "      <td>...</td>\n",
       "      <td>...</td>\n",
       "      <td>...</td>\n",
       "      <td>...</td>\n",
       "      <td>...</td>\n",
       "      <td>...</td>\n",
       "      <td>...</td>\n",
       "      <td>...</td>\n",
       "      <td>...</td>\n",
       "      <td>...</td>\n",
       "      <td>...</td>\n",
       "      <td>...</td>\n",
       "      <td>...</td>\n",
       "      <td>...</td>\n",
       "      <td>...</td>\n",
       "      <td>...</td>\n",
       "      <td>...</td>\n",
       "      <td>...</td>\n",
       "      <td>...</td>\n",
       "      <td>...</td>\n",
       "      <td>...</td>\n",
       "      <td>...</td>\n",
       "      <td>...</td>\n",
       "      <td>...</td>\n",
       "    </tr>\n",
       "    <tr>\n",
       "      <th>44027</th>\n",
       "      <td>chn#poly_main:coll#0x8a067dfdfded8816428c6dffb...</td>\n",
       "      <td>0x8a067dfdfded8816428c6dffbb58c3d3f9e81ceb</td>\n",
       "      <td>ERC721</td>\n",
       "      <td>gyan-Fl</td>\n",
       "      <td>gyan0890.lens-Follower</td>\n",
       "      <td></td>\n",
       "      <td></td>\n",
       "      <td></td>\n",
       "      <td>False</td>\n",
       "      <td>5</td>\n",
       "      <td>Verified code but low setApprovalForAll count</td>\n",
       "      <td></td>\n",
       "      <td></td>\n",
       "      <td></td>\n",
       "      <td></td>\n",
       "      <td>gyan0890-lens-follower</td>\n",
       "      <td>[]</td>\n",
       "      <td>False</td>\n",
       "      <td>False</td>\n",
       "      <td>not_requested</td>\n",
       "      <td>False</td>\n",
       "      <td>False</td>\n",
       "      <td>False</td>\n",
       "      <td>True</td>\n",
       "      <td>False</td>\n",
       "      <td>False</td>\n",
       "      <td>0.0000</td>\n",
       "      <td>3</td>\n",
       "      <td>3</td>\n",
       "      <td>0.0</td>\n",
       "      <td>0.000</td>\n",
       "      <td>0.00000</td>\n",
       "      <td>0.000000</td>\n",
       "      <td></td>\n",
       "      <td>0</td>\n",
       "      <td></td>\n",
       "      <td></td>\n",
       "      <td>0</td>\n",
       "      <td>False</td>\n",
       "      <td>False</td>\n",
       "      <td>False</td>\n",
       "      <td>0</td>\n",
       "      <td>4.0</td>\n",
       "      <td>Topic 1</td>\n",
       "    </tr>\n",
       "    <tr>\n",
       "      <th>44028</th>\n",
       "      <td>chn#eth_main:coll#0x1cdc0f5f615431d2fbdabd76e0...</td>\n",
       "      <td>0x1cdc0f5f615431d2fbdabd76e0ac88f2419d1541</td>\n",
       "      <td>ERC721</td>\n",
       "      <td>WBLS</td>\n",
       "      <td>Wobbles Official</td>\n",
       "      <td>First collection of 2222 Wobbles, wobble throu...</td>\n",
       "      <td>https://i.seadn.io/gae/oC3DHxp0BZpwnhRboWH7dRo...</td>\n",
       "      <td>https://i.seadn.io/gae/FUZEbBs8paNPMOI3NKYo59q...</td>\n",
       "      <td>False</td>\n",
       "      <td>1</td>\n",
       "      <td>Approved on opensea</td>\n",
       "      <td>https://discord.gg/Y2K34f9Pdk</td>\n",
       "      <td>https://www.instagram.com/wobbles.nft/</td>\n",
       "      <td></td>\n",
       "      <td>Wobbles_nft</td>\n",
       "      <td>wobbles-official</td>\n",
       "      <td>['https://www.wobbleverse.com/']</td>\n",
       "      <td>False</td>\n",
       "      <td>False</td>\n",
       "      <td>approved</td>\n",
       "      <td>True</td>\n",
       "      <td>False</td>\n",
       "      <td>True</td>\n",
       "      <td>True</td>\n",
       "      <td>False</td>\n",
       "      <td>False</td>\n",
       "      <td>0.0025</td>\n",
       "      <td>2222</td>\n",
       "      <td>720</td>\n",
       "      <td>0.0</td>\n",
       "      <td>0.000</td>\n",
       "      <td>0.00000</td>\n",
       "      <td>3.245086</td>\n",
       "      <td>Y2K34f9Pdk</td>\n",
       "      <td>0</td>\n",
       "      <td>wobbles.nft</td>\n",
       "      <td></td>\n",
       "      <td>0</td>\n",
       "      <td>True</td>\n",
       "      <td>True</td>\n",
       "      <td>True</td>\n",
       "      <td>0</td>\n",
       "      <td>1.0</td>\n",
       "      <td>Topic 3</td>\n",
       "    </tr>\n",
       "    <tr>\n",
       "      <th>44029</th>\n",
       "      <td>chn#eth_main:coll#0x75378fbd6ea8f30162254b076a...</td>\n",
       "      <td>0x75378fbd6ea8f30162254b076a98ffd52c50a655</td>\n",
       "      <td>ERC721</td>\n",
       "      <td>LEGOx</td>\n",
       "      <td>LEGOx #2</td>\n",
       "      <td>LEGOx is the first ever transposition of the L...</td>\n",
       "      <td>https://i.seadn.io/gae/t4uKQmsdFq6GCAM_v6KB8y8...</td>\n",
       "      <td>https://i.seadn.io/gae/cCS8cHGo7sz4huWbkmDVx-6...</td>\n",
       "      <td>False</td>\n",
       "      <td>4</td>\n",
       "      <td>Fallback state</td>\n",
       "      <td>https://discord.gg/8Re7JXH9tW</td>\n",
       "      <td>legox_</td>\n",
       "      <td></td>\n",
       "      <td>LegoX_</td>\n",
       "      <td>legox2</td>\n",
       "      <td>['https://www.legox.xyz/']</td>\n",
       "      <td>False</td>\n",
       "      <td>False</td>\n",
       "      <td>not_requested</td>\n",
       "      <td>True</td>\n",
       "      <td>True</td>\n",
       "      <td>False</td>\n",
       "      <td>True</td>\n",
       "      <td>False</td>\n",
       "      <td>False</td>\n",
       "      <td>0.0000</td>\n",
       "      <td>1</td>\n",
       "      <td>1</td>\n",
       "      <td>0.0</td>\n",
       "      <td>0.000</td>\n",
       "      <td>0.00000</td>\n",
       "      <td>0.000000</td>\n",
       "      <td>8Re7JXH9tW</td>\n",
       "      <td>1416</td>\n",
       "      <td>legox_</td>\n",
       "      <td></td>\n",
       "      <td>0</td>\n",
       "      <td>True</td>\n",
       "      <td>True</td>\n",
       "      <td>True</td>\n",
       "      <td>0</td>\n",
       "      <td>4.0</td>\n",
       "      <td>Topic 3</td>\n",
       "    </tr>\n",
       "    <tr>\n",
       "      <th>44030</th>\n",
       "      <td>chn#eth_main:coll#0x957d54cb75c13bdcb083d6d3c6...</td>\n",
       "      <td>0x957d54cb75c13bdcb083d6d3c6b440ee8e6a777b</td>\n",
       "      <td>ERC721</td>\n",
       "      <td>PINA</td>\n",
       "      <td>Pinaworld V2</td>\n",
       "      <td></td>\n",
       "      <td></td>\n",
       "      <td></td>\n",
       "      <td>False</td>\n",
       "      <td>2</td>\n",
       "      <td>&lt; 1kb bytecode size, unlikely a standard NFT c...</td>\n",
       "      <td></td>\n",
       "      <td></td>\n",
       "      <td></td>\n",
       "      <td></td>\n",
       "      <td>pinaworld-v2</td>\n",
       "      <td>[]</td>\n",
       "      <td>False</td>\n",
       "      <td>False</td>\n",
       "      <td>not_requested</td>\n",
       "      <td>True</td>\n",
       "      <td>True</td>\n",
       "      <td>False</td>\n",
       "      <td>False</td>\n",
       "      <td>False</td>\n",
       "      <td>False</td>\n",
       "      <td>0.0000</td>\n",
       "      <td>0</td>\n",
       "      <td>0</td>\n",
       "      <td>0.0</td>\n",
       "      <td>0.000</td>\n",
       "      <td>0.00000</td>\n",
       "      <td>0.000000</td>\n",
       "      <td></td>\n",
       "      <td>0</td>\n",
       "      <td></td>\n",
       "      <td></td>\n",
       "      <td>0</td>\n",
       "      <td>False</td>\n",
       "      <td>False</td>\n",
       "      <td>False</td>\n",
       "      <td>0</td>\n",
       "      <td>4.0</td>\n",
       "      <td>Topic 1</td>\n",
       "    </tr>\n",
       "    <tr>\n",
       "      <th>44031</th>\n",
       "      <td>chn#eth_main:coll#0x25f54c092660cd2dc57226cc0a...</td>\n",
       "      <td>0x25f54c092660cd2dc57226cc0a4e395145988b00</td>\n",
       "      <td>ERC721</td>\n",
       "      <td>PAPER</td>\n",
       "      <td>Paper Art V4 - old</td>\n",
       "      <td></td>\n",
       "      <td></td>\n",
       "      <td></td>\n",
       "      <td>False</td>\n",
       "      <td>3</td>\n",
       "      <td>The contract self-destructed</td>\n",
       "      <td></td>\n",
       "      <td></td>\n",
       "      <td></td>\n",
       "      <td></td>\n",
       "      <td>paper-art-v4-2-78D4bUJGcy</td>\n",
       "      <td>[]</td>\n",
       "      <td>False</td>\n",
       "      <td>False</td>\n",
       "      <td>not_requested</td>\n",
       "      <td>True</td>\n",
       "      <td>True</td>\n",
       "      <td>False</td>\n",
       "      <td>False</td>\n",
       "      <td>True</td>\n",
       "      <td>False</td>\n",
       "      <td>0.0000</td>\n",
       "      <td>2</td>\n",
       "      <td>1</td>\n",
       "      <td>0.0</td>\n",
       "      <td>0.000</td>\n",
       "      <td>0.00000</td>\n",
       "      <td>0.000000</td>\n",
       "      <td></td>\n",
       "      <td>0</td>\n",
       "      <td></td>\n",
       "      <td></td>\n",
       "      <td>0</td>\n",
       "      <td>False</td>\n",
       "      <td>False</td>\n",
       "      <td>False</td>\n",
       "      <td>0</td>\n",
       "      <td>4.0</td>\n",
       "      <td>Topic 1</td>\n",
       "    </tr>\n",
       "  </tbody>\n",
       "</table>\n",
       "<p>44032 rows × 44 columns</p>\n",
       "</div>"
      ],
      "text/plain": [
       "                                                      pk  \\\n",
       "0      chn#eth_main:coll#0x9e11abc2d7a073ec1f62319616...   \n",
       "1      chn#poly_main:coll#0x6c33f58f011b0e77b3d4841ff...   \n",
       "2      chn#eth_main:coll#0xf220db48f0d3ca8a9833e0353e...   \n",
       "3      chn#eth_main:coll#0xdc65d93d147a90994580e80da8...   \n",
       "4      chn#poly_main:coll#0xdb241f0701965cb1f73d59690...   \n",
       "...                                                  ...   \n",
       "44027  chn#poly_main:coll#0x8a067dfdfded8816428c6dffb...   \n",
       "44028  chn#eth_main:coll#0x1cdc0f5f615431d2fbdabd76e0...   \n",
       "44029  chn#eth_main:coll#0x75378fbd6ea8f30162254b076a...   \n",
       "44030  chn#eth_main:coll#0x957d54cb75c13bdcb083d6d3c6...   \n",
       "44031  chn#eth_main:coll#0x25f54c092660cd2dc57226cc0a...   \n",
       "\n",
       "                                 contract_address contract_schema  \\\n",
       "0      0x9e11abc2d7a073ec1f62319616d22577b216362b          ERC721   \n",
       "1      0x6c33f58f011b0e77b3d4841ff4baf8574abbdee3          ERC721   \n",
       "2      0xf220db48f0d3ca8a9833e0353e7497dbceae7ac6          ERC721   \n",
       "3      0xdc65d93d147a90994580e80da819c0beaba9a8ff         ERC1155   \n",
       "4      0xdb241f0701965cb1f73d59690375229a68d4ed5a          ERC721   \n",
       "...                                           ...             ...   \n",
       "44027  0x8a067dfdfded8816428c6dffbb58c3d3f9e81ceb          ERC721   \n",
       "44028  0x1cdc0f5f615431d2fbdabd76e0ac88f2419d1541          ERC721   \n",
       "44029  0x75378fbd6ea8f30162254b076a98ffd52c50a655          ERC721   \n",
       "44030  0x957d54cb75c13bdcb083d6d3c6b440ee8e6a777b          ERC721   \n",
       "44031  0x25f54c092660cd2dc57226cc0a4e395145988b00          ERC721   \n",
       "\n",
       "      contract_ticker_symbol            display_name  \\\n",
       "0                        ICU        Of Human Bondage   \n",
       "1                       PNFT                 PopItem   \n",
       "2                 KARA-GACHA       Karafuru Gachapon   \n",
       "3                        NHA         NuestraHistoria   \n",
       "4                        S.A                   SHIVA   \n",
       "...                      ...                     ...   \n",
       "44027                gyan-Fl  gyan0890.lens-Follower   \n",
       "44028                   WBLS        Wobbles Official   \n",
       "44029                  LEGOx                LEGOx #2   \n",
       "44030                   PINA            Pinaworld V2   \n",
       "44031                  PAPER      Paper Art V4 - old   \n",
       "\n",
       "                                             description  \\\n",
       "0                                                          \n",
       "1                                                          \n",
       "2      The Karafuru Gachapon is your access ticket to...   \n",
       "3      Nuestra Historia is a collection that will ser...   \n",
       "4                                                          \n",
       "...                                                  ...   \n",
       "44027                                                      \n",
       "44028  First collection of 2222 Wobbles, wobble throu...   \n",
       "44029  LEGOx is the first ever transposition of the L...   \n",
       "44030                                                      \n",
       "44031                                                      \n",
       "\n",
       "                                        banner_image_url  \\\n",
       "0                                                          \n",
       "1                                                          \n",
       "2      https://lh3.googleusercontent.com/CcIzXh0j6dG5...   \n",
       "3      https://i.seadn.io/gcs/files/cb59f5b08d4dac531...   \n",
       "4                                                          \n",
       "...                                                  ...   \n",
       "44027                                                      \n",
       "44028  https://i.seadn.io/gae/oC3DHxp0BZpwnhRboWH7dRo...   \n",
       "44029  https://i.seadn.io/gae/t4uKQmsdFq6GCAM_v6KB8y8...   \n",
       "44030                                                      \n",
       "44031                                                      \n",
       "\n",
       "                                    collection_image_url  is_nsfw  \\\n",
       "0                                                           False   \n",
       "1                                                           False   \n",
       "2      https://lh3.googleusercontent.com/wUqNK1rmCYtz...    False   \n",
       "3      https://i.seadn.io/gcs/files/9ef4361d030c6c258...    False   \n",
       "4                                                           False   \n",
       "...                                                  ...      ...   \n",
       "44027                                                       False   \n",
       "44028  https://i.seadn.io/gae/FUZEbBs8paNPMOI3NKYo59q...    False   \n",
       "44029  https://i.seadn.io/gae/cCS8cHGo7sz4huWbkmDVx-6...    False   \n",
       "44030                                                       False   \n",
       "44031                                                       False   \n",
       "\n",
       "       display_state                               display_state_reason  \\\n",
       "0                  1           Known ERC1167 proxy contract: Foundation   \n",
       "1                  5      Verified code but low setApprovalForAll count   \n",
       "2                  1                                Approved on opensea   \n",
       "3                  4                                     Fallback state   \n",
       "4                  2   < 10 functions, unlikely a standard NFT contract   \n",
       "...              ...                                                ...   \n",
       "44027              5      Verified code but low setApprovalForAll count   \n",
       "44028              1                                Approved on opensea   \n",
       "44029              4                                     Fallback state   \n",
       "44030              2  < 1kb bytecode size, unlikely a standard NFT c...   \n",
       "44031              3                       The contract self-destructed   \n",
       "\n",
       "                    external.discord                      external.instagram  \\\n",
       "0                                                                              \n",
       "1                                                                              \n",
       "2        https://discord.gg/karafuru                             KarafuruNFT   \n",
       "3                                                                              \n",
       "4                                                                              \n",
       "...                              ...                                     ...   \n",
       "44027                                                                          \n",
       "44028  https://discord.gg/Y2K34f9Pdk  https://www.instagram.com/wobbles.nft/   \n",
       "44029  https://discord.gg/8Re7JXH9tW                                  legox_   \n",
       "44030                                                                          \n",
       "44031                                                                          \n",
       "\n",
       "      external.telegram external.twitter           external.os_slug  \\\n",
       "0                                                  of-human-bondage   \n",
       "1                                                                     \n",
       "2                            KarafuruNFT          karafuru-gachapon   \n",
       "3                                                   nuestrahistoria   \n",
       "4                                                  shiva-jmp9jubgbl   \n",
       "...                 ...              ...                        ...   \n",
       "44027                                        gyan0890-lens-follower   \n",
       "44028                        Wobbles_nft           wobbles-official   \n",
       "44029                             LegoX_                     legox2   \n",
       "44030                                                  pinaworld-v2   \n",
       "44031                                     paper-art-v4-2-78D4bUJGcy   \n",
       "\n",
       "                          external.urls  flags.os_hidden  flags.os_is_nsfw  \\\n",
       "0                                    []            False             False   \n",
       "1                                    []            False             False   \n",
       "2             ['http://3d.karafuru.io']            False             False   \n",
       "3                                    []            False             False   \n",
       "4                                    []            False             False   \n",
       "...                                 ...              ...               ...   \n",
       "44027                                []            False             False   \n",
       "44028  ['https://www.wobbleverse.com/']            False             False   \n",
       "44029        ['https://www.legox.xyz/']            False             False   \n",
       "44030                                []            False             False   \n",
       "44031                                []            False             False   \n",
       "\n",
       "      flags.os_safelist_state  flags.code_verified  flags.functions_threshold  \\\n",
       "0               not_requested                 True                       True   \n",
       "1               not_requested                False                      False   \n",
       "2                    approved                 True                       True   \n",
       "3               not_requested                 True                       True   \n",
       "4               not_requested                 True                      False   \n",
       "...                       ...                  ...                        ...   \n",
       "44027           not_requested                False                      False   \n",
       "44028                approved                 True                      False   \n",
       "44029           not_requested                 True                       True   \n",
       "44030           not_requested                 True                       True   \n",
       "44031           not_requested                 True                       True   \n",
       "\n",
       "       flags.approval_threshold  flags.bytecode_threshold  \\\n",
       "0                         False                     False   \n",
       "1                         False                      True   \n",
       "2                          True                      True   \n",
       "3                         False                      True   \n",
       "4                         False                      True   \n",
       "...                         ...                       ...   \n",
       "44027                     False                      True   \n",
       "44028                      True                      True   \n",
       "44029                     False                      True   \n",
       "44030                     False                     False   \n",
       "44031                     False                     False   \n",
       "\n",
       "       flags.did_self_destruct  flags.is_whitelisted_proxy  \\\n",
       "0                        False                        True   \n",
       "1                        False                       False   \n",
       "2                        False                       False   \n",
       "3                        False                       False   \n",
       "4                        False                       False   \n",
       "...                        ...                         ...   \n",
       "44027                    False                       False   \n",
       "44028                    False                       False   \n",
       "44029                    False                       False   \n",
       "44030                    False                       False   \n",
       "44031                     True                       False   \n",
       "\n",
       "       display_stats.floor_price  display_stats.supply  display_stats.holders  \\\n",
       "0                         0.0000                     1                      1   \n",
       "1                         0.0000                     0                      0   \n",
       "2                         0.0350                  6582                   2818   \n",
       "3                         0.0000                     1                      1   \n",
       "4                         0.0000                     2                      1   \n",
       "...                          ...                   ...                    ...   \n",
       "44027                     0.0000                     3                      3   \n",
       "44028                     0.0025                  2222                    720   \n",
       "44029                     0.0000                     1                      1   \n",
       "44030                     0.0000                     0                      0   \n",
       "44031                     0.0000                     2                      1   \n",
       "\n",
       "       display_stats.one_day_volume  display_stats.seven_day_volume  \\\n",
       "0                               0.0                           0.000   \n",
       "1                               0.0                           0.000   \n",
       "2                               0.0                           0.095   \n",
       "3                               0.0                           0.000   \n",
       "4                               0.0                           0.000   \n",
       "...                             ...                             ...   \n",
       "44027                           0.0                           0.000   \n",
       "44028                           0.0                           0.000   \n",
       "44029                           0.0                           0.000   \n",
       "44030                           0.0                           0.000   \n",
       "44031                           0.0                           0.000   \n",
       "\n",
       "       display_stats.thirty_day_volume  display_stats.total_volume  \\\n",
       "0                              0.00000                    0.000000   \n",
       "1                              0.00000                    0.000000   \n",
       "2                              1.51275                 2984.530610   \n",
       "3                              0.00000                    0.000000   \n",
       "4                              0.00000                    0.000000   \n",
       "...                                ...                         ...   \n",
       "44027                          0.00000                    0.000000   \n",
       "44028                          0.00000                    3.245086   \n",
       "44029                          0.00000                    0.000000   \n",
       "44030                          0.00000                    0.000000   \n",
       "44031                          0.00000                    0.000000   \n",
       "\n",
       "      external.discord_server  external.discord_total_member  \\\n",
       "0                                                          0   \n",
       "1                                                          0   \n",
       "2                    karafuru                         129999   \n",
       "3                                                          0   \n",
       "4                                                          0   \n",
       "...                       ...                            ...   \n",
       "44027                                                      0   \n",
       "44028              Y2K34f9Pdk                              0   \n",
       "44029              8Re7JXH9tW                           1416   \n",
       "44030                                                      0   \n",
       "44031                                                      0   \n",
       "\n",
       "      external.instagram_name external.instagram_total_follower  \\\n",
       "0                                                                 \n",
       "1                                                                 \n",
       "2                 KarafuruNFT                                     \n",
       "3                                                                 \n",
       "4                                                                 \n",
       "...                       ...                               ...   \n",
       "44027                                                             \n",
       "44028             wobbles.nft                                     \n",
       "44029                  legox_                                     \n",
       "44030                                                             \n",
       "44031                                                             \n",
       "\n",
       "       external.telegram_total_member  external.has_instagram  \\\n",
       "0                                   0                   False   \n",
       "1                                   0                   False   \n",
       "2                                   0                    True   \n",
       "3                                   0                   False   \n",
       "4                                   0                   False   \n",
       "...                               ...                     ...   \n",
       "44027                               0                   False   \n",
       "44028                               0                    True   \n",
       "44029                               0                    True   \n",
       "44030                               0                   False   \n",
       "44031                               0                   False   \n",
       "\n",
       "       external.has_discord  external.has_twitter  deceptive_word_count  \\\n",
       "0                     False                 False                     0   \n",
       "1                     False                 False                     0   \n",
       "2                      True                  True                     0   \n",
       "3                     False                 False                     0   \n",
       "4                     False                 False                     0   \n",
       "...                     ...                   ...                   ...   \n",
       "44027                 False                 False                     0   \n",
       "44028                  True                  True                     0   \n",
       "44029                  True                  True                     0   \n",
       "44030                 False                 False                     0   \n",
       "44031                 False                 False                     0   \n",
       "\n",
       "       sentiment    topic  \n",
       "0            4.0  Topic 1  \n",
       "1            4.0  Topic 1  \n",
       "2            4.0  Topic 1  \n",
       "3            4.0  Topic 1  \n",
       "4            4.0  Topic 1  \n",
       "...          ...      ...  \n",
       "44027        4.0  Topic 1  \n",
       "44028        1.0  Topic 3  \n",
       "44029        4.0  Topic 3  \n",
       "44030        4.0  Topic 1  \n",
       "44031        4.0  Topic 1  \n",
       "\n",
       "[44032 rows x 44 columns]"
      ]
     },
     "execution_count": 18,
     "metadata": {},
     "output_type": "execute_result"
    }
   ],
   "source": [
    "df"
   ]
  },
  {
   "cell_type": "code",
   "execution_count": 19,
   "metadata": {},
   "outputs": [
    {
     "data": {
      "text/plain": [
       "Topic 1    35092\n",
       "Topic 3     3628\n",
       "Topic 2     2799\n",
       "Topic 0     2513\n",
       "Name: topic, dtype: int64"
      ]
     },
     "execution_count": 19,
     "metadata": {},
     "output_type": "execute_result"
    }
   ],
   "source": [
    "df['topic'].value_counts()"
   ]
  },
  {
   "cell_type": "code",
   "execution_count": 20,
   "metadata": {},
   "outputs": [],
   "source": [
    "df.to_parquet(\"final_df.parquet\", index=False)"
   ]
  }
 ],
 "metadata": {
  "kernelspec": {
   "display_name": "Python 3",
   "language": "python",
   "name": "python3"
  },
  "language_info": {
   "codemirror_mode": {
    "name": "ipython",
    "version": 3
   },
   "file_extension": ".py",
   "mimetype": "text/x-python",
   "name": "python",
   "nbconvert_exporter": "python",
   "pygments_lexer": "ipython3",
   "version": "3.8.5"
  }
 },
 "nbformat": 4,
 "nbformat_minor": 4
}
